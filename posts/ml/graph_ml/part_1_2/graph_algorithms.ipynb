{
 "cells": [
  {
   "cell_type": "raw",
   "id": "a06fc309",
   "metadata": {
    "vscode": {
     "languageId": "raw"
    }
   },
   "source": [
    "---\n",
    "title: \"Graph ML: Graph Algorithms\"\n",
    "description: \"Part 0.5: Traditional Grpah Algorithms\"\n",
    "date: \"2024-05-09\"\n",
    "# image: \"deep_learning_model.png\"\n",
    "categories: [AI, Engineering, Graphs, GraphML, Algorithms]\n",
    "---"
   ]
  },
  {
   "cell_type": "markdown",
   "id": "f81d78f8",
   "metadata": {},
   "source": [
    "The following are standard graph algorithms.\n",
    "\n",
    "\n",
    "## 1. Graph Search\n",
    "\n",
    "We are searching for a particular vertex in the graph.\n",
    "\n",
    "For DFS and BFS, we need to iterate over each of the $V$ nodes and each of its edges $E$. We visit the edge from both sides, i.e. from each of the nodes attached to it, so we perform $V + 2E$ steps.\n",
    "\n",
    "The complexity is therefore $O(V+ E)$.\n",
    "\n",
    "\n",
    "### 1.1. Depth-First Search (DFS)\n",
    "\n",
    "DFS is a recursive algorithm where we keep track of the nodes visited so far. \n",
    "\n",
    "It is similar to the binary tree traversal algorithm, which shouldn't be surprising since a tree is a type of graph and we want to traverse it to find our target node.\n",
    "\n",
    "Steps:\n",
    "\n",
    "1. **Initialise**: Start at any (random) node.\n",
    "2. **Visit the node**: Add the current node to the `visited_nodes` hash table.\n",
    "3. **Recursively visit neighbors**: Iterate through the current node's neighbors. If the neighbor has already been visited, ignore it. Otherwise, recursively call DFS on the unvisited neighbor, i.e. go back to Step 2.\n",
    "\n",
    "\n",
    "### 1.2. Breadth-First Search (BFS)\n",
    "\n",
    "BFS does not rely on recursion, instead using a *queue*  to track the execution order.\n",
    "\n",
    "Steps:\n",
    "\n",
    "1. **Initialise**: Start at any (random) node.\n",
    "2. **Visit the node**: Add the current node to the `visited_nodes` hash table and to the `node_queue`.\n",
    "3. **Iterate through the queue**: Run a while-loop to iterate while the queue is populated. \n",
    "4. **Process the queue**: Pop the first node from `node_queue`. Iterate over its neighbors. If the neighbor has been visited already, ignore it. Otherwise, visit the node - add it to the `visited_nodes` hash table and to the `node_queue`. Repeat until the queue is empty.\n",
    "\n",
    "\n",
    "### 1.3. A* Algorithm\n",
    "\n",
    "\n",
    "## 2. Shortest Path Algorithms\n",
    "\n",
    "We are trying to find the shortest path between two nodes.\n",
    "\n",
    "### 2.1. Dijkstra's Algorithm\n",
    "\n",
    "Dijkstra's algorithm maintains\n",
    "\n",
    "1. A hash map `shortest_distances` containing shortest known distances from the starting node to each node visited. \n",
    "2. A hash map `shortest_path_previous_node` tracking the previous node visited on the shortest knonw path to a node.\n",
    "\n",
    "A nice bonus is that it ends up finding the shortest path from the source node to all other nodes, not just the target node we care about.\n",
    "\n",
    "Steps:\n",
    "\n",
    "1. **Initialise**: Start at the source node and make it the `current_node`.\n",
    "2. **Check the immediate neighbours**: If the distance to a neighbor from the source node is shorter than the current known `shortest_distances`, then update `shortest_distances` and `shortest_path_previous_node`.\n",
    "3. **Visit the new node closest to source**: Visit whichever unvisited node has the shortest known distance. Make it the `current_node` and repeat Step 2.\n",
    "\n",
    "\n",
    "## 3. Minimum Spanning Tree\n",
    "\n",
    "### 3.1. Kruskal's Algorithm\n",
    "\n",
    "### 3.2. Prim's Algorithm"
   ]
  },
  {
   "cell_type": "markdown",
   "id": "b2276bbd",
   "metadata": {},
   "source": [
    "## 4. Further Topics in Graph Theory\n",
    "\n",
    "- Topological sort\n",
    "- Bidirectional search\n",
    "- Floyd-Warshall algorithms\n",
    "- Bellman-Ford algorithm\n",
    "- Graph coloring"
   ]
  },
  {
   "cell_type": "code",
   "execution_count": null,
   "id": "a89d3930",
   "metadata": {},
   "outputs": [],
   "source": []
  },
  {
   "cell_type": "code",
   "execution_count": null,
   "id": "1075775b",
   "metadata": {},
   "outputs": [],
   "source": []
  },
  {
   "cell_type": "code",
   "execution_count": null,
   "id": "c55b9fe8",
   "metadata": {},
   "outputs": [],
   "source": []
  }
 ],
 "metadata": {
  "kernelspec": {
   "display_name": "Python 3 (ipykernel)",
   "language": "python",
   "name": "python3"
  },
  "language_info": {
   "codemirror_mode": {
    "name": "ipython",
    "version": 3
   },
   "file_extension": ".py",
   "mimetype": "text/x-python",
   "name": "python",
   "nbconvert_exporter": "python",
   "pygments_lexer": "ipython3",
   "version": "3.8.12"
  }
 },
 "nbformat": 4,
 "nbformat_minor": 5
}
