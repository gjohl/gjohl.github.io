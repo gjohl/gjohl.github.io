{
 "cells": [
  {
   "cell_type": "raw",
   "metadata": {
    "vscode": {
     "languageId": "raw"
    }
   },
   "source": [
    "---\n",
    "title: \"Graph ML: What's a Graph?\"\n",
    "description: \"Part 0: Intro to Graphs\"\n",
    "date: \"2024-05-07\"\n",
    "# image: \"deep_learning_model.png\"\n",
    "categories: [AI, Engineering, Graphs, GraphML]\n",
    "---"
   ]
  },
  {
   "cell_type": "markdown",
   "metadata": {},
   "source": [
    "# Introduction to Graphs\n",
    "\n",
    "## 1. Graphs: What and Why\n",
    "\n",
    "Graphs are a generic way of representing relationships (edges) between entities (nodes).\n",
    "\n",
    "This makes them useful in a wide variety of applications, including modelling biological pathways, social networks, or even images.\n",
    "\n",
    "Graphs do not have a fixed structure and the relationships (edges) can be time-varying.\n",
    "\n",
    "\n",
    "### 1.1. Graph Jargon\n",
    "\n",
    "Entities are **nodes or vertices** and their relationships are **edges**.\n",
    "\n",
    "Nodes that are connected are **adjacent** and are called **neighbours**.\n",
    "\n",
    "Graphs are the general case of trees. A graph is broadly something with nodes and edges. A tree is a graph that has *no cycles* and all nodes are *connected*.\n",
    "\n",
    "A **directed graph** or **digraph** shows where relationships can be directional, e.g. social network followers.\n",
    "\n",
    "Edges can be **weighted** to represent quantities like distance or cost.\n",
    "\n",
    "A **path** is the sequence of edges used to get from one vertex to another.\n",
    "\n",
    "A **simple path** does not visit any node more than once.\n",
    "\n",
    "A graph is **connected** if there is a path between every pair of vertices, i.e. there are no isolated nodes or clusters.\n",
    "\n",
    "A **cycle** is a path where the first and last nodes are the same.\n",
    "\n",
    "### 1.2. Types of Graphs\n",
    "\n",
    "- **Tree**: An undirected graph with no cycles.\n",
    "- **Rooted tree**: A tree where one node is designated ads the root.\n",
    "- **Directed Acyclic Graph (DAG)**: A directed graph with no cycles. This means edges can only be traversed in a particular direction.\n",
    "- **Bipartite graphs**: A graph where vertices can be divided into two disjoint sets.\n",
    "- **Complete graph**: A graph where every pair of vertices is connected by an edge, i.e. it is fully connected."
   ]
  },
  {
   "cell_type": "markdown",
   "metadata": {},
   "source": [
    "## 2. Implementing a Graph From Scratch\n",
    "\n",
    "Graphs are an abstract data structure, so there are multiple ways we can represent them in memory.\n",
    "\n",
    "Some common options are:\n",
    "\n",
    "1. Objects and pointers\n",
    "2. Adjacency lists \n",
    "3. Edge lists\n",
    "4. Adjacency matrix\n",
    "\n",
    "\n",
    "Each approach has its own trade-offs in terms of memory usage, ease of implementation, and efficiency based on the specific characteristics of the graph you're dealing with.\n",
    "\n",
    "We'll implement the following simple graph using each approach:\n",
    "\n",
    "\n",
    "```{mermaid}\n",
    "\n",
    "flowchart LR\n",
    "\n",
    "A[1] <---> B[2]\n",
    "B[2] <---> C[3]\n",
    "```\n",
    "\n",
    "### 2.1. Objects and Pointers\n",
    "\n",
    "In this approach, we represent each node in the graph as an object, and you use pointers to connect these nodes. Each object typically contains a list of pointers to other nodes it's connected to.\n",
    "\n",
    "For a *connected* graph, if we have access to one node we can traverse the graph to find all other nodes. This is not true for graphs with unconnected nodes.\n",
    "\n",
    "This approach will be familiar to computer scientists - it bears a resemblance to linked lists.\n",
    "In practice this isn't used much in practical ML because traversing the graph is more cumbersome.\n",
    "\n",
    "\n",
    "Pros:\n",
    "\n",
    "- Allows for flexible representation of complex relationships.\n",
    "- Ideal for graphs where nodes have additional properties beyond just connectivity.\n",
    "\n",
    "Cons:\n",
    "\n",
    "- Memory overhead due to object instantiation and pointer storage.\n",
    "- Can be complex to implement and manage.\n",
    "- If the graph is not connected, an additional data structure is needed to keep track of isolated nodes.\n",
    "\n",
    "Python Implementation:"
   ]
  },
  {
   "cell_type": "code",
   "execution_count": 2,
   "metadata": {},
   "outputs": [],
   "source": [
    "class Node:\n",
    "    def __init__(self, value):\n",
    "        self.value = value\n",
    "        self.neighbors = []\n",
    "\n",
    "    def __repr__(self) -> str:\n",
    "        return f\"Node {self.value} with neighbors {[k.value for k in self.neighbors]}\"\n",
    "\n",
    "def add_edge(node1, node2):\n",
    "    node1.neighbors.append(node2)\n",
    "    node2.neighbors.append(node1)\n",
    "\n",
    "node1 = Node(1)\n",
    "node2 = Node(2)\n",
    "node3 = Node(3)\n",
    "\n",
    "add_edge(node1, node2)\n",
    "add_edge(node2, node3)"
   ]
  },
  {
   "cell_type": "code",
   "execution_count": 3,
   "metadata": {},
   "outputs": [
    {
     "name": "stdout",
     "output_type": "stream",
     "text": [
      "Node 1 with neighbors [2]\n"
     ]
    }
   ],
   "source": [
    "print(node1)"
   ]
  },
  {
   "cell_type": "code",
   "execution_count": 4,
   "metadata": {},
   "outputs": [
    {
     "name": "stdout",
     "output_type": "stream",
     "text": [
      "Node 2 with neighbors [1, 3]\n"
     ]
    }
   ],
   "source": [
    "print(node2)"
   ]
  },
  {
   "cell_type": "code",
   "execution_count": 5,
   "metadata": {},
   "outputs": [
    {
     "name": "stdout",
     "output_type": "stream",
     "text": [
      "Node 3 with neighbors [2]\n"
     ]
    }
   ],
   "source": [
    "print(node3)"
   ]
  },
  {
   "cell_type": "markdown",
   "metadata": {},
   "source": [
    "### 2.2. Adjacency List\n",
    "\n",
    "In this approach, we store a list of edges per node.\n",
    "\n",
    "We use a list or dictionary where the index or key represents a node, and the value is a list of its adjacent nodes.\n",
    "\n",
    "Pros:\n",
    "\n",
    "- Efficient memory usage for sparse graphs - $O(V + E)$ space complexity.\n",
    "- Easy to implement and understand.\n",
    "- Suitable for graphs with varying degrees of connectivity.\n",
    "- Easy to iterate through neighbors.\n",
    "\n",
    "Cons:\n",
    "\n",
    "- Slower for dense graphs.\n",
    "- Checking if nodes are connected is slow - retrieving edge information may require linear search.\n",
    "\n",
    "Python Implementation:"
   ]
  },
  {
   "cell_type": "code",
   "execution_count": 6,
   "metadata": {},
   "outputs": [
    {
     "name": "stdout",
     "output_type": "stream",
     "text": [
      "{1: [2], 2: [1, 3], 3: [2]}\n"
     ]
    }
   ],
   "source": [
    "class Graph:\n",
    "    def __init__(self):\n",
    "        self.adj_list = {}\n",
    "\n",
    "    def __repr__(self) -> str:\n",
    "        return str(self.adj_list)\n",
    "\n",
    "    def add_edge(self, node1, node2):\n",
    "        if node1 not in self.adj_list:\n",
    "            self.adj_list[node1] = []\n",
    "        if node2 not in self.adj_list:\n",
    "            self.adj_list[node2] = []\n",
    "        self.adj_list[node1].append(node2)\n",
    "        self.adj_list[node2].append(node1)\n",
    "\n",
    "\n",
    "graph = Graph()\n",
    "graph.add_edge(1, 2)\n",
    "graph.add_edge(2, 3)\n",
    "\n",
    "print(graph)\n"
   ]
  },
  {
   "cell_type": "markdown",
   "metadata": {},
   "source": [
    "### 2.3. Edge Lists\n",
    "\n",
    "An even more compact form is the **edge list**, which lists all of the edges as `(source_node, target_node)` tuples.\n",
    "\n",
    "Pros:\n",
    "\n",
    "- Even more efficient memory usage for sparse graphs - $O(E)$ space complexity.\n",
    "\n",
    "\n",
    "Cons:\n",
    "\n",
    "- Slower for dense graphs.\n",
    "- Checking if nodes are connected is slow - retrieving edge information may require linear search.\n",
    "\n",
    "Python Implementation:"
   ]
  },
  {
   "cell_type": "code",
   "execution_count": 26,
   "metadata": {},
   "outputs": [
    {
     "name": "stdout",
     "output_type": "stream",
     "text": [
      "[(1, 2), (2, 3)]\n"
     ]
    }
   ],
   "source": [
    "class Graph:\n",
    "    def __init__(self):\n",
    "        self.edge_list = []\n",
    "\n",
    "    def __repr__(self) -> str:\n",
    "        return str(self.edge_list)\n",
    "\n",
    "    def add_edge(self, node1, node2):\n",
    "        node_pair = (node1, node2)\n",
    "        if node_pair not in self.edge_list:\n",
    "            self.edge_list.append(node_pair)\n",
    "\n",
    "\n",
    "graph = Graph()\n",
    "graph.add_edge(1, 2)\n",
    "graph.add_edge(2, 3)\n",
    "\n",
    "print(graph)\n"
   ]
  },
  {
   "cell_type": "markdown",
   "metadata": {},
   "source": [
    "### 2.4. Adjacency Matrix\n",
    "\n",
    "In this approach, we represent the graph as a 2D matrix where rows and columns represent nodes, and matrix cells indicate whether there's an edge between the nodes.\n",
    "\n",
    "For weighted graphs, the values in the matrix correspond to the weights of the edges.\n",
    "\n",
    "Pros:\n",
    "\n",
    "- Efficient for dense graphs.\n",
    "- Constant time access to check edge existence; checking if nodes are connected is $O(1)$.\n",
    "\n",
    "Cons:\n",
    "\n",
    "- Not ideal for graphs with a large number of nodes due to $O(V^2)$ space complexity. This is particularly bad for sparse graphs.\n",
    "- Adding/removing nodes can be expensive as it requires resizing the matrix. Bad for dynamic graphs.\n",
    "\n",
    "Python Implementation:"
   ]
  },
  {
   "cell_type": "code",
   "execution_count": 7,
   "metadata": {},
   "outputs": [
    {
     "name": "stdout",
     "output_type": "stream",
     "text": [
      "[[0, 1, 0], [1, 0, 1], [0, 1, 0]]\n"
     ]
    }
   ],
   "source": [
    "class Graph:\n",
    "    def __init__(self, num_nodes):\n",
    "        self.adj_matrix = [[0] * num_nodes for row in range(num_nodes)]\n",
    "\n",
    "    def __repr__(self) -> str:\n",
    "        return str(self.adj_matrix)\n",
    "\n",
    "    def add_edge(self, node1, node2):\n",
    "        self.adj_matrix[node1][node2] = 1\n",
    "        self.adj_matrix[node2][node1] = 1\n",
    "\n",
    "\n",
    "graph = Graph(num_nodes=3)\n",
    "graph.add_edge(0, 1)\n",
    "graph.add_edge(1, 2)\n",
    "\n",
    "print(graph)"
   ]
  },
  {
   "cell_type": "markdown",
   "metadata": {},
   "source": [
    "The adjacency matrix approach is useful in machine learning as it naturally fits into a tensor representation, which most ML libraries (e.g. pytorch, tensorflow) play nicely with. So we'll stick with tthat going forward."
   ]
  },
  {
   "cell_type": "markdown",
   "metadata": {},
   "source": [
    "## 3. Implementing a Graph with networkx\n",
    "\n",
    "Grpahs are common enough to work with that we don't need to implement them from scratch every time we want ot use them (although doing so in the previous section is instructive).\n",
    "\n",
    "`networkx` is a useful third-party library for this task"
   ]
  },
  {
   "cell_type": "code",
   "execution_count": 8,
   "metadata": {},
   "outputs": [
    {
     "name": "stdout",
     "output_type": "stream",
     "text": [
      "Graph with 7 nodes and 7 edges\n"
     ]
    }
   ],
   "source": [
    "import networkx as nx\n",
    "\n",
    "\n",
    "graph = nx.Graph()\n",
    "graph.add_edges_from([\n",
    "    ('A', 'B'),\n",
    "    ('A', 'C'), \n",
    "    ('B', 'D'), \n",
    "    ('B', 'E'), \n",
    "    ('C', 'F'), \n",
    "    ('C', 'G'), \n",
    "    ('G', 'G'), \n",
    "])\n",
    "\n",
    "print(graph)\n"
   ]
  },
  {
   "cell_type": "markdown",
   "metadata": {},
   "source": [
    "From this Graph object we can see our familiar edge list:"
   ]
  },
  {
   "cell_type": "code",
   "execution_count": 9,
   "metadata": {},
   "outputs": [
    {
     "data": {
      "text/plain": [
       "AdjacencyView({'A': {'B': {}, 'C': {}}, 'B': {'A': {}, 'D': {}, 'E': {}}, 'C': {'A': {}, 'F': {}, 'G': {}}, 'D': {'B': {}}, 'E': {'B': {}}, 'F': {'C': {}}, 'G': {'C': {}, 'G': {}}})"
      ]
     },
     "execution_count": 9,
     "metadata": {},
     "output_type": "execute_result"
    }
   ],
   "source": [
    "graph.adj\n"
   ]
  },
  {
   "cell_type": "markdown",
   "metadata": {},
   "source": [
    "Or the adjacency matrix:"
   ]
  },
  {
   "cell_type": "code",
   "execution_count": 10,
   "metadata": {},
   "outputs": [
    {
     "name": "stderr",
     "output_type": "stream",
     "text": [
      "/var/folders/8k/8jqhnfbd1t99blb07r1hs5440000gn/T/ipykernel_50230/1468791322.py:1: FutureWarning: adjacency_matrix will return a scipy.sparse array instead of a matrix in Networkx 3.0.\n",
      "  nx.adjacency_matrix(graph).todense()\n"
     ]
    },
    {
     "data": {
      "text/plain": [
       "matrix([[0, 1, 1, 0, 0, 0, 0],\n",
       "        [1, 0, 0, 1, 1, 0, 0],\n",
       "        [1, 0, 0, 0, 0, 1, 1],\n",
       "        [0, 1, 0, 0, 0, 0, 0],\n",
       "        [0, 1, 0, 0, 0, 0, 0],\n",
       "        [0, 0, 1, 0, 0, 0, 0],\n",
       "        [0, 0, 1, 0, 0, 0, 1]])"
      ]
     },
     "execution_count": 10,
     "metadata": {},
     "output_type": "execute_result"
    }
   ],
   "source": [
    "nx.adjacency_matrix(graph).todense()"
   ]
  },
  {
   "cell_type": "markdown",
   "metadata": {},
   "source": [
    "## 4. Graph Metrics\n",
    "\n",
    "### 4.1. Degree of a Node\n",
    "\n",
    "This is the number of edges which are incident on a node.\n",
    "\n",
    "For an **undirected** graph, this is the number of edges connected to the node. **Self-loops** add 2 to the degree.\n",
    "\n",
    "For a **directed** graph, we can distinguish the *indegree*, $deg^-(V)$, as the edges that point towards the node. The *outdegree*, $deg^+(V)$, denotes the edges that start from the node. **Self-loops** add 1 to the indegree and 1 to the outdegree."
   ]
  },
  {
   "cell_type": "code",
   "execution_count": 11,
   "metadata": {},
   "outputs": [
    {
     "data": {
      "text/plain": [
       "DegreeView({'A': 2, 'B': 3, 'C': 3, 'D': 1, 'E': 1, 'F': 1, 'G': 3})"
      ]
     },
     "execution_count": 11,
     "metadata": {},
     "output_type": "execute_result"
    }
   ],
   "source": [
    "graph.degree"
   ]
  },
  {
   "cell_type": "markdown",
   "metadata": {},
   "source": [
    "### 4.2. Centraility\n",
    "\n",
    "Centrality measures the importance of a given node in a network. \n",
    "\n",
    "There a different formulations of centrality:\n",
    "\n",
    "- **Degree centrality**: This is simply the degree of the node. *How many neighbours?*\n",
    "- **Closeness centrality**: The average length of the shortest path between this node and all others. *How fast can I reach my neighbours?*\n",
    "- **Betweenness centrality**: The number of times a node lies on the shortest path between pairs of other nodes in the graph. *How often am  I the bottelneck/bridge for others?*"
   ]
  },
  {
   "cell_type": "code",
   "execution_count": 13,
   "metadata": {},
   "outputs": [
    {
     "data": {
      "text/plain": [
       "{'A': 0.3333333333333333,\n",
       " 'B': 0.5,\n",
       " 'C': 0.5,\n",
       " 'D': 0.16666666666666666,\n",
       " 'E': 0.16666666666666666,\n",
       " 'F': 0.16666666666666666,\n",
       " 'G': 0.5}"
      ]
     },
     "execution_count": 13,
     "metadata": {},
     "output_type": "execute_result"
    }
   ],
   "source": [
    "nx.degree_centrality(graph)"
   ]
  },
  {
   "cell_type": "code",
   "execution_count": 14,
   "metadata": {},
   "outputs": [
    {
     "data": {
      "text/plain": [
       "{'A': 0.6,\n",
       " 'B': 0.5454545454545454,\n",
       " 'C': 0.5454545454545454,\n",
       " 'D': 0.375,\n",
       " 'E': 0.375,\n",
       " 'F': 0.375,\n",
       " 'G': 0.375}"
      ]
     },
     "execution_count": 14,
     "metadata": {},
     "output_type": "execute_result"
    }
   ],
   "source": [
    "nx.closeness_centrality(graph)"
   ]
  },
  {
   "cell_type": "code",
   "execution_count": 15,
   "metadata": {},
   "outputs": [
    {
     "data": {
      "text/plain": [
       "{'A': 0.6, 'B': 0.6, 'C': 0.6, 'D': 0.0, 'E': 0.0, 'F': 0.0, 'G': 0.0}"
      ]
     },
     "execution_count": 15,
     "metadata": {},
     "output_type": "execute_result"
    }
   ],
   "source": [
    "nx.betweenness_centrality(graph)"
   ]
  },
  {
   "cell_type": "markdown",
   "metadata": {},
   "source": [
    "### 4.3. Connectedness\n",
    "\n",
    "#### 4.3.1. Minimum Cut\n",
    "\n",
    "This is the minimum number of edges that would need to be removed to make the graph disconnected.\n",
    "\n",
    "How easy is it to create isolated nodes/clusters?\n",
    "\n",
    "This is a measure of **connectedness**.\n",
    "\n",
    "\n",
    "#### 4.3.2. Density\n",
    "\n",
    "This is the ratio of the number of edges in the grap to the maximum possible number of edges between all nodes.\n",
    "\n",
    "For a directed graph with $n$ nodes, the maximum number of edges is $n(n-1)$.\n",
    "\n",
    "For an undirected graph with $n$ nodes, the maximum number of edges is $\\frac{n(n-1)}{2}$.\n",
    "\n",
    "Broadly speaking, a graph is considered **dense** if $density > 0.5$ and **sparse** if $density < 0.1$.\n"
   ]
  },
  {
   "cell_type": "markdown",
   "metadata": {},
   "source": [
    "## 5. Why Use Graph Learning?\n",
    "\n",
    "There are several categories of learning tasks we may want to perform on a graph:\n",
    "\n",
    "1. **Node classification**: Predict the category of each node. E.g. categorising songs by genre.\n",
    "2. **Link prediction**: Predict missing links between nodes. E.g. friend recommnedations in a social network.\n",
    "3. **Graph classification**: Categorise an entire graph.\n",
    "4. **Graph generation**: Generate a new graph based on desired properties.\n",
    "\n",
    "\n",
    "There are several prominent families of graph learning techniques:\n",
    "\n",
    "1. **Graph signal processing**: Apply traditional signal processing techniques like Fourier analysis to graphs to study its connectivity and structure.\n",
    "2. **Matrix factorisation**: Find low-dimensional representations of large matrices\n",
    "3. **Random walk**: Simulate random walks over a graph, e.g. to generate training date for downstream models.\n",
    "4. **Deep learning**: Encode the graph as tensors and perform deep learning.\n",
    "\n",
    "\n",
    "Traditional tabular datasets focus on the entities which are represented as rows. But often, the relationships *between* entities contain vital information. Global features, such as network-wide statistics, may also provide useful information. "
   ]
  },
  {
   "cell_type": "markdown",
   "metadata": {},
   "source": []
  }
 ],
 "metadata": {
  "kernelspec": {
   "display_name": "graphml",
   "language": "python",
   "name": "python3"
  },
  "language_info": {
   "codemirror_mode": {
    "name": "ipython",
    "version": 3
   },
   "file_extension": ".py",
   "mimetype": "text/x-python",
   "name": "python",
   "nbconvert_exporter": "python",
   "pygments_lexer": "ipython3",
   "version": "3.8.15"
  }
 },
 "nbformat": 4,
 "nbformat_minor": 2
}
