{
 "cells": [
  {
   "cell_type": "raw",
   "metadata": {
    "vscode": {
     "languageId": "raw"
    }
   },
   "source": [
    "---\n",
    "title: \"Graph ML: Intro\"\n",
    "description: \"Part 0: Intro to Graphs\"\n",
    "date: \"2024-05-08\"\n",
    "# image: \"deep_learning_model.png\"\n",
    "categories: [AI, Engineering, Graphs, GraphML]\n",
    "---"
   ]
  },
  {
   "cell_type": "markdown",
   "metadata": {},
   "source": [
    "# Introduction to Graphs\n",
    "\n",
    "## 1. Graphs: What and Why\n",
    "\n",
    "Graphs are a generic way of representing relationships (edges) between entities (nodes).\n",
    "\n",
    "This makes them useful in a wide variety of applications, including modelling biological pathways, social networks, or even images.\n",
    "\n",
    "Graphs do not have a fixed structure and the relationships (edges) can be time-varying.\n",
    "\n",
    "\n",
    "### 1.1. Graph Jargon\n",
    "\n",
    "Entities are **nodes or vertices** and their relationships are **edges**.\n",
    "\n",
    "Nodes that are connected are **adjacent** and are called **neighbours**.\n",
    "\n",
    "Graphs are the general case of trees. A graph is broadly something with nodes and edges. A tree is a graph that has *no cycles* and all nodes are *connected*.\n",
    "\n",
    "A **directed graph** shows where relationships can be directional, e.g. social network followers.\n",
    "\n",
    "Edges can be **weighted** or unweighted.\n",
    "\n",
    "A **path** is the sequence of edges used to get from one vertex to another."
   ]
  },
  {
   "cell_type": "markdown",
   "metadata": {},
   "source": [
    "## 2. Implementing a Graph From Scratch\n",
    "\n",
    "Graphs are an abstract data structure, so there are multiple ways we can represent them in memory.\n",
    "\n",
    "Some common options are:\n",
    "\n",
    "1. Objects and pointers\n",
    "2. Adjacency lists AKA edge lists\n",
    "3. Adjacency matrix\n",
    "\n",
    "\n",
    "Each approach has its own trade-offs in terms of memory usage, ease of implementation, and efficiency based on the specific characteristics of the graph you're dealing with.\n",
    "\n",
    "We'll implement the following simple graph using each approach:\n",
    "\n",
    "\n",
    "```{mermaid}\n",
    "\n",
    "flowchart LR\n",
    "\n",
    "A[1] <---> B[2]\n",
    "B[2] <---> C[3]\n",
    "```\n",
    "\n",
    "### 2.1. Objects and Pointers\n",
    "\n",
    "In this approach, we represent each node in the graph as an object, and you use pointers to connect these nodes. Each object typically contains a list of pointers to other nodes it's connected to.\n",
    "\n",
    "For a *connected* graph, if we have access to one node we can traverse the graph to find all other nodes. This is not true for graphs with unconnected nodes.\n",
    "\n",
    "This approach will be familiar to computer scientists - it bears a resemblance to linked lists.\n",
    "In practice this isn't used much in practical ML because traversing the graph is more cumbersome.\n",
    "\n",
    "\n",
    "Pros:\n",
    "\n",
    "- Allows for flexible representation of complex relationships.\n",
    "- Ideal for graphs where nodes have additional properties beyond just connectivity.\n",
    "\n",
    "Cons:\n",
    "\n",
    "- Memory overhead due to object instantiation and pointer storage.\n",
    "- Can be complex to implement and manage.\n",
    "- If the graph is not connected, an additional data structure is needed to keep track of isolated nodes.\n",
    "\n",
    "Python Implementation:"
   ]
  },
  {
   "cell_type": "code",
   "execution_count": 1,
   "metadata": {},
   "outputs": [],
   "source": [
    "class Node:\n",
    "    def __init__(self, value):\n",
    "        self.value = value\n",
    "        self.neighbors = []\n",
    "\n",
    "    def __repr__(self) -> str:\n",
    "        return f\"Node {self.value} with neighbors {[k.value for k in self.neighbors]}\"\n",
    "\n",
    "def add_edge(node1, node2):\n",
    "    node1.neighbors.append(node2)\n",
    "    node2.neighbors.append(node1)\n",
    "\n",
    "node1 = Node(1)\n",
    "node2 = Node(2)\n",
    "node3 = Node(3)\n",
    "\n",
    "add_edge(node1, node2)\n",
    "add_edge(node2, node3)"
   ]
  },
  {
   "cell_type": "code",
   "execution_count": 2,
   "metadata": {},
   "outputs": [
    {
     "name": "stdout",
     "output_type": "stream",
     "text": [
      "Node 1 with neighbors [2]\n"
     ]
    }
   ],
   "source": [
    "print(node1)"
   ]
  },
  {
   "cell_type": "code",
   "execution_count": 3,
   "metadata": {},
   "outputs": [
    {
     "name": "stdout",
     "output_type": "stream",
     "text": [
      "Node 2 with neighbors [1, 3]\n"
     ]
    }
   ],
   "source": [
    "print(node2)"
   ]
  },
  {
   "cell_type": "code",
   "execution_count": 4,
   "metadata": {},
   "outputs": [
    {
     "name": "stdout",
     "output_type": "stream",
     "text": [
      "Node 3 with neighbors [2]\n"
     ]
    }
   ],
   "source": [
    "print(node3)"
   ]
  },
  {
   "cell_type": "markdown",
   "metadata": {},
   "source": [
    "### 2.2. Adjacency List\n",
    "\n",
    "In this approach, we store a list of edges per node.\n",
    "\n",
    "We use a list or dictionary where the index or key represents a node, and the value is a list of its adjacent nodes.\n",
    "\n",
    "Pros:\n",
    "\n",
    "- Efficient memory usage for sparse graphs.\n",
    "- Easy to implement and understand.\n",
    "- Suitable for graphs with varying degrees of connectivity.\n",
    "\n",
    "Cons:\n",
    "\n",
    "- Slower for dense graphs.\n",
    "- Retrieving edge information may require linear search.\n",
    "\n",
    "Python Implementation:"
   ]
  },
  {
   "cell_type": "code",
   "execution_count": 5,
   "metadata": {},
   "outputs": [
    {
     "name": "stdout",
     "output_type": "stream",
     "text": [
      "{1: [2], 2: [1, 3], 3: [2]}\n"
     ]
    }
   ],
   "source": [
    "class Graph:\n",
    "    def __init__(self):\n",
    "        self.adj_list = {}\n",
    "\n",
    "    def __repr__(self) -> str:\n",
    "        return str(self.adj_list)\n",
    "\n",
    "    def add_edge(self, node1, node2):\n",
    "        if node1 not in self.adj_list:\n",
    "            self.adj_list[node1] = []\n",
    "        if node2 not in self.adj_list:\n",
    "            self.adj_list[node2] = []\n",
    "        self.adj_list[node1].append(node2)\n",
    "        self.adj_list[node2].append(node1)\n",
    "\n",
    "\n",
    "graph = Graph()\n",
    "graph.add_edge(1, 2)\n",
    "graph.add_edge(2, 3)\n",
    "\n",
    "print(graph)\n"
   ]
  },
  {
   "cell_type": "markdown",
   "metadata": {},
   "source": [
    "### 2.3. Adjacency Matrix\n",
    "\n",
    "In this approach, we represent the graph as a 2D matrix where rows and columns represent nodes, and matrix cells indicate whether there's an edge between the nodes.\n",
    "\n",
    "For weighted graphs, the values in the matrix correspond to the weights of the edges.\n",
    "\n",
    "Pros:\n",
    "\n",
    "- Efficient for dense graphs.\n",
    "- Constant time access to check edge existence.\n",
    "\n",
    "Cons:\n",
    "\n",
    "- Consumes more memory for sparse graphs.\n",
    "- Adding/removing nodes can be expensive as it requires resizing the matrix.\n",
    "- Not ideal for graphs with a large number of nodes due to space complexity.\n",
    "\n",
    "Python Implementation:"
   ]
  },
  {
   "cell_type": "code",
   "execution_count": 6,
   "metadata": {},
   "outputs": [
    {
     "name": "stdout",
     "output_type": "stream",
     "text": [
      "[[0, 1, 0], [1, 0, 1], [0, 1, 0]]\n"
     ]
    }
   ],
   "source": [
    "class Graph:\n",
    "    def __init__(self, num_nodes):\n",
    "        self.adj_matrix = [[0] * num_nodes for row in range(num_nodes)]\n",
    "\n",
    "    def __repr__(self) -> str:\n",
    "        return str(self.adj_matrix)\n",
    "\n",
    "    def add_edge(self, node1, node2):\n",
    "        self.adj_matrix[node1][node2] = 1\n",
    "        self.adj_matrix[node2][node1] = 1\n",
    "\n",
    "\n",
    "graph = Graph(num_nodes=3)\n",
    "graph.add_edge(0, 1)\n",
    "graph.add_edge(1, 2)\n",
    "\n",
    "print(graph)"
   ]
  },
  {
   "cell_type": "markdown",
   "metadata": {},
   "source": [
    "The adjacency matrix approach is useful in machine learning as it naturally fits into a tensor representation, which most ML libraries (e.g. pytorch, tensorflow) play nicely with. So we'll stick with tthat going forward."
   ]
  },
  {
   "cell_type": "markdown",
   "metadata": {},
   "source": [
    "## 3. Implementing a Grpah with networkx\n",
    "\n",
    "Grpahs are common enough to work with that we don't need to implement them from scratch every time we want ot use them (although doing so in the previous section is instructive).\n",
    "\n",
    "`networkx` is a useful third-party library for this task"
   ]
  },
  {
   "cell_type": "code",
   "execution_count": 7,
   "metadata": {},
   "outputs": [],
   "source": [
    "import networkx as nx\n",
    "\n",
    "\n",
    "graph = nx.Graph()\n",
    "graph.add_edges_from([\n",
    "    ('A', 'B'),\n",
    "    ('A', 'C'), \n",
    "    ('B', 'D'), \n",
    "    ('B', 'E'), \n",
    "    ('C', 'F'), \n",
    "    ('C', 'G'), \n",
    "    ('G', 'G'), \n",
    "])\n",
    "\n",
    "print(graph)\n"
   ]
  },
  {
   "cell_type": "markdown",
   "metadata": {},
   "source": [
    "From this Graph object we can see our familiar edge list:"
   ]
  },
  {
   "cell_type": "code",
   "execution_count": 41,
   "metadata": {},
   "outputs": [
    {
     "data": {
      "text/plain": [
       "AdjacencyView({'A': {'B': {}, 'C': {}}, 'B': {'A': {}, 'D': {}, 'E': {}}, 'C': {'A': {}, 'F': {}, 'G': {}}, 'D': {'B': {}}, 'E': {'B': {}}, 'F': {'C': {}}, 'G': {'C': {}, 'G': {}}})"
      ]
     },
     "execution_count": 41,
     "metadata": {},
     "output_type": "execute_result"
    }
   ],
   "source": [
    "graph.adj\n"
   ]
  },
  {
   "cell_type": "markdown",
   "metadata": {},
   "source": [
    "Or the adjacency matrix:"
   ]
  },
  {
   "cell_type": "code",
   "execution_count": 11,
   "metadata": {},
   "outputs": [
    {
     "name": "stderr",
     "output_type": "stream",
     "text": [
      "/var/folders/8k/8jqhnfbd1t99blb07r1hs5440000gn/T/ipykernel_14344/1468791322.py:1: FutureWarning: adjacency_matrix will return a scipy.sparse array instead of a matrix in Networkx 3.0.\n",
      "  nx.adjacency_matrix(graph).todense()\n"
     ]
    },
    {
     "data": {
      "text/plain": [
       "matrix([[0, 1, 1, 0, 0, 0, 0],\n",
       "        [1, 0, 0, 1, 1, 0, 0],\n",
       "        [1, 0, 0, 0, 0, 1, 1],\n",
       "        [0, 1, 0, 0, 0, 0, 0],\n",
       "        [0, 1, 0, 0, 0, 0, 0],\n",
       "        [0, 0, 1, 0, 0, 0, 0],\n",
       "        [0, 0, 1, 0, 0, 0, 1]])"
      ]
     },
     "execution_count": 11,
     "metadata": {},
     "output_type": "execute_result"
    }
   ],
   "source": [
    "nx.adjacency_matrix(graph).todense()"
   ]
  },
  {
   "cell_type": "markdown",
   "metadata": {},
   "source": [
    "# Old"
   ]
  },
  {
   "cell_type": "code",
   "execution_count": 7,
   "metadata": {},
   "outputs": [
    {
     "data": {
      "text/plain": [
       "DegreeView({'A': 2, 'B': 3, 'C': 3, 'D': 1, 'E': 1, 'F': 1, 'G': 3})"
      ]
     },
     "execution_count": 7,
     "metadata": {},
     "output_type": "execute_result"
    }
   ],
   "source": [
    "g.degree"
   ]
  },
  {
   "cell_type": "code",
   "execution_count": 8,
   "metadata": {},
   "outputs": [
    {
     "data": {
      "text/plain": [
       "{'A': 0.3333333333333333,\n",
       " 'B': 0.5,\n",
       " 'C': 0.5,\n",
       " 'D': 0.16666666666666666,\n",
       " 'E': 0.16666666666666666,\n",
       " 'F': 0.16666666666666666,\n",
       " 'G': 0.5}"
      ]
     },
     "execution_count": 8,
     "metadata": {},
     "output_type": "execute_result"
    }
   ],
   "source": [
    "nx.degree_centrality(g)"
   ]
  },
  {
   "cell_type": "code",
   "execution_count": 9,
   "metadata": {},
   "outputs": [
    {
     "data": {
      "text/plain": [
       "{'A': 0.6,\n",
       " 'B': 0.5454545454545454,\n",
       " 'C': 0.5454545454545454,\n",
       " 'D': 0.375,\n",
       " 'E': 0.375,\n",
       " 'F': 0.375,\n",
       " 'G': 0.375}"
      ]
     },
     "execution_count": 9,
     "metadata": {},
     "output_type": "execute_result"
    }
   ],
   "source": [
    "nx.closeness_centrality(g)"
   ]
  },
  {
   "cell_type": "code",
   "execution_count": 10,
   "metadata": {},
   "outputs": [
    {
     "data": {
      "text/plain": [
       "{'A': 0.6, 'B': 0.6, 'C': 0.6, 'D': 0.0, 'E': 0.0, 'F': 0.0, 'G': 0.0}"
      ]
     },
     "execution_count": 10,
     "metadata": {},
     "output_type": "execute_result"
    }
   ],
   "source": [
    "nx.betweenness_centrality(g)"
   ]
  },
  {
   "cell_type": "markdown",
   "metadata": {},
   "source": []
  },
  {
   "cell_type": "markdown",
   "metadata": {},
   "source": [
    "## 3. Graph Metrics\n",
    "\n",
    "Connectedness\n",
    "\n",
    "\n",
    "## 4. Graph Search\n",
    "\n",
    "### 4.1. Depth-First Search\n",
    "\n",
    "\n",
    "### 4.2. Breadth-First Search\n",
    "\n",
    "\n",
    "## 5. Graph Algorithms\n",
    "\n",
    "### 5.1. Dijkstra's Algorithm\n",
    "\n",
    "\n",
    "### 5.2. A* Algorithm\n",
    "\n",
    "\n",
    "### 5.3. Kruskal's Algorithm\n",
    "\n",
    "\n",
    "### 5.4. Prim's Algorithm"
   ]
  },
  {
   "cell_type": "markdown",
   "metadata": {},
   "source": [
    "## N. Graph Learning\n",
    "\n",
    "There are several categories of learning tasks we may want to perform on a graph:\n",
    "\n",
    "1. **Node classification**: Predict the category of each node. E.g. categorising songs by genre.\n",
    "2. **Link prediction**: Predict missing links between nodes. E.g. friend recommnedations in a social network.\n",
    "3. **Graph classification**: Categorise an entire graph.\n",
    "4. **Graph generation**: Generate a new graph based on desired properties.\n",
    "\n",
    "\n",
    "There are several prominent families of graph learning techniques:\n",
    "\n",
    "1. **Graph signal processing**: Apply traditional signal processing techniques like Fourier analysis to graphs to study its connectivity and structure.\n",
    "2. **Matrix factorisation**:"
   ]
  }
 ],
 "metadata": {
  "kernelspec": {
   "display_name": "graphml",
   "language": "python",
   "name": "python3"
  },
  "language_info": {
   "codemirror_mode": {
    "name": "ipython",
    "version": 3
   },
   "file_extension": ".py",
   "mimetype": "text/x-python",
   "name": "python",
   "nbconvert_exporter": "python",
   "pygments_lexer": "ipython3",
   "version": "3.8.15"
  }
 },
 "nbformat": 4,
 "nbformat_minor": 2
}
