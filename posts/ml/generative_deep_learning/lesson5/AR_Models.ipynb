{
 "cells": [
  {
   "cell_type": "raw",
   "id": "e6b4d837",
   "metadata": {
    "vscode": {
     "languageId": "raw"
    }
   },
   "source": [
    "---\n",
    "title: \"Generative AI: Autoregressive Models\"\n",
    "description: \"Part 4: AR Models\"\n",
    "date: \"2024-06-10\"\n",
    "# image: \"deep_learning_model.png\"\n",
    "categories: [AI, Engineering, GenerativeAI, NLP]\n",
    "# format:\n",
    "#   html:\n",
    "#     code-fold: true\n",
    "---"
   ]
  },
  {
   "cell_type": "markdown",
   "id": "4860da3e",
   "metadata": {},
   "source": [
    "# Autoregressive Models\n",
    "\n",
    "## 1. What is an Autoregressive Model\n",
    "\n",
    "Autoregressive models treat the generative model as a sequential process. Predictions are conditioned on the previous values in the sequence.\n",
    "\n",
    "Contrast this with other techniques like VAEs and GANs that approach the problem of generative models by starting with a distribution that is easy to sample from, then the model learns to decode this variable back to the original domain.\n",
    "\n",
    "\n",
    "> Story time:\n",
    ">\n",
    "> We want to write a book by crowdsourcing, one word at a time. We start with an initial snippet, then ask a bunch of people what they think the next word should be (without conferring with one another). \n",
    ">\n",
    "> We take all of their opinions on board and then decide on the next word.\n",
    ">\n",
    "> Then we repeat the whole process again, word by precious word."
   ]
  },
  {
   "cell_type": "markdown",
   "id": "8ae6c686",
   "metadata": {},
   "source": [
    "\n"
   ]
  }
 ],
 "metadata": {
  "kernelspec": {
   "display_name": "Python 3 (ipykernel)",
   "language": "python",
   "name": "python3"
  },
  "language_info": {
   "codemirror_mode": {
    "name": "ipython",
    "version": 3
   },
   "file_extension": ".py",
   "mimetype": "text/x-python",
   "name": "python",
   "nbconvert_exporter": "python",
   "pygments_lexer": "ipython3",
   "version": "3.8.12"
  }
 },
 "nbformat": 4,
 "nbformat_minor": 5
}
