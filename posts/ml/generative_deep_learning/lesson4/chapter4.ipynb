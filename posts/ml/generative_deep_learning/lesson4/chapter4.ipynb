{
 "cells": [
  {
   "cell_type": "markdown",
   "metadata": {},
   "source": [
    "---\n",
    "title: \"Generative AI: GANs\"\n",
    "description: \"Part 4: Generative Adversarial Networks\"\n",
    "date: \"2024-04-01\"\n",
    "# image: \"deep_learning_model.png\"\n",
    "categories: [AI, Engineering, GenerativeAI, GAN]\n",
    "format:\n",
    "  html:\n",
    "    code-fold: true\n",
    "---"
   ]
  },
  {
   "cell_type": "markdown",
   "metadata": {},
   "source": [
    "# GANs\n",
    "\n",
    "Notes on Generative Adversarial Networks (GANs).\n",
    "\n",
    "::: {.callout-tip title=\"Story Time\"}\n",
    "Imagine a forger trying to forge £20 notes and the popo trying to stop them.\n",
    "\n",
    "The popo learn to spot the fakes.\n",
    "But then the forger learns to improve their forging skills to make better fakes.\n",
    "\n",
    "This goes back and forth. With each iteration, the forger keeps getting better but then the popo learn to spot these more sophisticated fakes.\n",
    "\n",
    "The results in a forger (generator) learning to create convincing fakes and the popo (discriminator) learning to spot fakes.\n",
    ":::\n",
    "\n",
    "\n",
    "## 1. GANs\n",
    "The idea of GANs is that we can train two competing models:\n",
    "\n",
    "- The **generator** tries to convert random noise into convincing observations.\n",
    "- The **discriminator** tries to predict whether an observation came from the original training dataset or is a \"fake\".\n",
    "\n",
    "We initialise both as random models; the generator outputs noise and the discriminator predicts randomly.\n",
    "We then alternate the training of the two networks so that the generator gets incrementally better at fooling the discriminator, then the discriminator gets incrementally better at spotting fakes.\n",
    "\n",
    "\n",
    "```{mermaid}\n",
    "flowchart LR\n",
    "\n",
    "  A([Random noise]) --> B[Generator] --> C([Generated image]) \n",
    "\n",
    "  D([Image]) --> E[Discriminator] --> F([Prediction of realness probability])\n",
    "```\n",
    "\n",
    "\n",
    "\n",
    "## 2. Building a Deep Convolutional GAN (DCGAN)\n",
    "We will implement a GAN to generate [pictures of bricks](https://www.kaggle.com/datasets/joosthazelzet/lego-brick-images).\n",
    "\n"
   ]
  },
  {
   "cell_type": "markdown",
   "metadata": {
    "vscode": {
     "languageId": "plaintext"
    }
   },
   "source": [
    "### 2.1. Load and pre-process the data\n",
    "\n",
    "### 2.2. Build the Discriminator\n",
    "\n",
    "#### tanh vs sigmoid activation\n",
    "\n",
    "### 2.3. Build the Generator\n",
    "\n",
    "#### Conv2DTranspose\n",
    "\n",
    "### 2.4. Train the GAN\n",
    "Alternate not simultaneously.\n",
    "\n",
    "\n",
    "## 3. Analysing the GAN\n",
    "\n",
    "\n",
    "\n",
    "## 4. GAN Training Tips\n",
    "\n",
    "\n",
    "## 5. Wasserstein GAN with Gradient Penalty (WGAN-GP)\n",
    "\n",
    "### 5.1. Wasserstein Loss\n",
    "\n",
    "### 5.2. Lipschitz Constraint\n",
    "\n",
    "### 5.3. Gradient Penalty Loss\n",
    "\n",
    "### 5.4. Training the WGAN-GP\n",
    "\n",
    "### 5.5. Analysing the WGAN-GP\n",
    "\n",
    "\n",
    "## 6. Conditional GAN (CGAN)\n",
    "\n",
    "### 6.1. CGAN Architecture\n",
    "\n",
    "\n",
    "## References\n",
    "\n",
    "- Chapter 4 of Generative Deep Learning by David Foster.\n"
   ]
  },
  {
   "cell_type": "code",
   "execution_count": null,
   "metadata": {
    "vscode": {
     "languageId": "plaintext"
    }
   },
   "outputs": [],
   "source": []
  },
  {
   "cell_type": "code",
   "execution_count": null,
   "metadata": {
    "vscode": {
     "languageId": "plaintext"
    }
   },
   "outputs": [],
   "source": []
  },
  {
   "cell_type": "code",
   "execution_count": null,
   "metadata": {
    "vscode": {
     "languageId": "plaintext"
    }
   },
   "outputs": [],
   "source": []
  },
  {
   "cell_type": "markdown",
   "metadata": {},
   "source": [
    "\n"
   ]
  }
 ],
 "metadata": {
  "language_info": {
   "name": "python"
  }
 },
 "nbformat": 4,
 "nbformat_minor": 2
}
