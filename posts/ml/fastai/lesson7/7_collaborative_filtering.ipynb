{
 "cells": [
  {
   "cell_type": "raw",
   "id": "aeacdbce-307d-4f5d-95ba-cfb243988108",
   "metadata": {},
   "source": [
    "---\n",
    "title: \"FastAI Lesson 7: Collaborative Filtering\"\n",
    "description: \"Practical Deep Learning for Coders: Lesson 7\"\n",
    "date: \"2024-02-14\"\n",
    "image: \"fastai.png\"\n",
    "categories: [AI, Engineering, FastAI]\n",
    "format:\n",
    "    html:\n",
    "        code-fold: true\n",
    "jupyter: python3\n",
    "---"
   ]
  },
  {
   "cell_type": "markdown",
   "id": "5ceca7dc-5be7-4b8b-ab6a-50050a0cbb6d",
   "metadata": {},
   "source": [
    "# Collaborative Filtering\n",
    "These are notes from lesson 7 of Fast AI Practical Deep Learning for Coders.\n",
    "\n",
    "## Road to the top\n",
    "\n",
    "\n",
    "Collaborative Filtering. \n",
    "We have users ratings of movies. \n",
    "Say we had “embeddings” of a set of categories for each. So for a given film, we have a vector of [action, sci-fi, romance] and for a given user we have their preference for [action, sci-fi, romance]. Then we could do the for product between user embedding and movie embedding to get the probability that the user likes that movie. That is, the predicted user rating. \n",
    "So the problem boils down to: how do we get those embeddings?\n",
    "\n",
    "Let’s just pick a randomised embedding for each movie and each user. Then we have a loss function which is the MAE between predicted user rating for a movie and actual rating. \n",
    "Now we can use SGD to optimise those embeddings to find the best values. \n",
    "\n",
    "Recreate the collaborative filtering spreadsheet. \n",
    "\n",
    "How to choose the number of latent factors? (3 in the example above)\n",
    "Jeremy wrote down some ballpark values for models of different sizes in excel, then fit a function to it to get a heuristic measure. This is the default used by fast AI. \n",
    "\n",
    "An embedding is just “look up in an array”. \n",
    "\n",
    "Doing a matrix multiply by a one hot encoded vector is the same as doing a lookup in an array, just in a more computationally efficient way. Recall the softmax example. \n",
    "\n",
    "Putting a sigmoid_range on the final layer to squish ratings to fit 0 to 5 means “the model doesn’t have to work as hard” to get movies in the right range. \n",
    "In practice we use 5.5 as the sigmoid scale value as a sigmoid can never hit 1, but we want ratings to be able to hit 5. \n",
    "\n",
    "Adding a user bias term and a movie bias term to the prediction call helps account for the fact that some users always rate high (4 or 5) but other users always rate low. And similarly for movies if everyone always rates it a 5 or a 1. \n",
    "\n",
    "We want to avoid overfitting, but data augmentation isn’t possible here. \n",
    "We use weight decay AKA L2 regularisation. \n",
    "Add sum of weights squared to the loss function. \n",
    "\n",
    "## References\n",
    "\n",
    "- [Course lesson page](https://course.fast.ai/Lessons/lesson7.html)\n",
    "\n"
   ]
  },
  {
   "cell_type": "markdown",
   "id": "f4030b49-793a-46aa-9bcf-eb6fb6a20dd8",
   "metadata": {},
   "source": [
    "## Loading MovieLens data"
   ]
  },
  {
   "cell_type": "markdown",
   "id": "cd00b9ea-d9c9-4f87-94c9-c91fcae8efb5",
   "metadata": {},
   "source": [
    "Using MovieLens data from [here](https://grouplens.org/datasets/movielens/)"
   ]
  },
  {
   "cell_type": "code",
   "execution_count": 2,
   "id": "2e53877e-f0be-4e74-bcf8-befc5bbc1292",
   "metadata": {},
   "outputs": [],
   "source": [
    "#| code-fold: false\n",
    "def func(a, b):\n",
    "    return a+b"
   ]
  },
  {
   "cell_type": "code",
   "execution_count": 3,
   "id": "3e1e6e6b-24f4-4191-9374-5d0165a3c221",
   "metadata": {},
   "outputs": [
    {
     "data": {
      "text/plain": [
       "489"
      ]
     },
     "execution_count": 3,
     "metadata": {},
     "output_type": "execute_result"
    }
   ],
   "source": [
    "func(69, 420)"
   ]
  },
  {
   "cell_type": "code",
   "execution_count": 1,
   "id": "b0985808-663d-4304-8437-3eb9de84e187",
   "metadata": {},
   "outputs": [
    {
     "name": "stdout",
     "output_type": "stream",
     "text": [
      "/Users/gurpreetjohl/workspace/python/ml-practice/ml-practice/notebooks/fastai\n"
     ]
    }
   ],
   "source": [
    "!pwd"
   ]
  },
  {
   "cell_type": "code",
   "execution_count": null,
   "id": "5625bca3-4424-4d03-b788-75203ce3de1d",
   "metadata": {},
   "outputs": [],
   "source": []
  }
 ],
 "metadata": {
  "kernelspec": {
   "display_name": "Python 3 (ipykernel)",
   "language": "python",
   "name": "python3"
  },
  "language_info": {
   "codemirror_mode": {
    "name": "ipython",
    "version": 3
   },
   "file_extension": ".py",
   "mimetype": "text/x-python",
   "name": "python",
   "nbconvert_exporter": "python",
   "pygments_lexer": "ipython3",
   "version": "3.11.3"
  }
 },
 "nbformat": 4,
 "nbformat_minor": 5
}
