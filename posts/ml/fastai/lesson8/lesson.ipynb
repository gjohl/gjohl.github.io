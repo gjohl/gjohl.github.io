{
 "cells": [
  {
   "cell_type": "raw",
   "metadata": {
    "vscode": {
     "languageId": "plaintext"
    }
   },
   "source": [
    "---\n",
    "title: \"FastAI Lesson 8: Convolutions\"\n",
    "description: \"Practical Deep Learning for Coders: Lesson 8\"\n",
    "date: \"2024-03-05\"\n",
    "image: \"fastai.png\"\n",
    "categories: [AI, Engineering, FastAI]\n",
    "---"
   ]
  },
  {
   "cell_type": "markdown",
   "metadata": {},
   "source": [
    "# Convolutions\n",
    "These are notes from lesson 8 of Fast AI Practical Deep Learning for Coders.\n",
    "\n",
    "::: {.callout-tip title=\"Homework Task\"}\n",
    "Recreate the convolutions in a [spreadsheet](https://docs.google.com/spreadsheets/d/1gjgX8gJGIuKsUvhnutjq7gFlmMJxjzFeLiaLbDRhY2w/edit?usp=sharing) which underpins the discussion below.\n",
    ":::\n",
    "\n",
    "## 1. The Intuition Behind CNNs\n",
    "\n",
    "### 1.1. Convolutional Layers\n",
    "Convolutions slide a window of numbers, say 3x3, across our original image.\n",
    "\n",
    "Depending on the values in the filter, it will be able to pick out different features like horizontal or vertical edges.\n",
    "Subsequent layers can combine these into more sophisticated layers, like corners.\n",
    "These can eventually be combined to detect complex features of the image.\n",
    "\n",
    "An interactive example of this to see the intuition behind the sliding window is [here](https://tinymilky.github.io/demos/conv/index.html).\n",
    "\n",
    "\n",
    "### 1.2. Max Pooling\n",
    "This is a technique to reduce the size of the input tensor.\n",
    "\n",
    "A 2x2 max pool layer slides a 2x2 filter over the input and replaces each value with the max of the 4 values in the image.\n",
    "\n",
    "Nowadays, using the stride length is generally preferred over max pool layers.\n",
    "\n",
    "### 1.3. Stride Length\n",
    "An alternative technique to reduce the size of the input is to *skip* pixels when we slide our filter over the image.\n",
    "\n",
    "For example, a `stride=2` convolution would apply to every second pixel and therefore halves the image size in each axis, having the same effect as a 2x2 max pool.\n",
    "\n",
    "### 1.4. Dropout Layers\n",
    "As a regularisation technique to make sure the model is not overly reliant on any single pixel or region, we can add a dropout layer.\n",
    "\n",
    "Conceptually, this is the same as initialisng a random tensor the same size as the input and masking the input based on whether the random weight is above a threshold.\n",
    "\n",
    "\n",
    "### 1.5. Final Dense Layer\n",
    "\n",
    "We eventually want to reduce our input image size to output a tensor with one value per class.\n",
    "\n",
    "One approach is to apply a dense layer when the image has been reduced \"enough\", taking the dot product between the reduced image tensor and the dense layer.\n",
    "This is again deprecated in favour of the next approach...\n",
    "\n",
    "### 1.6. Average Pooling\n",
    "Nowadays, we use stride=2 convolutions until we get a small (7x7) tensor, then apply a single **average pool** layer to it.\n",
    "\n",
    "This 7x7 tensor (for a bear detector, say) effectively gives a value quantifying \"is there a bear in this part of the image?\". \n",
    "It then takes the average of all of these to determine if there is a bear in the overall photo.\n",
    "\n",
    "This works fine if the bear occupies most of the photo, but less well if the bear occupies a small region in the corner of the photo.\n",
    "So the details of the model depend on the use case. If we want ot be able to detect small bears in the corner, max pooling would work better here.\n",
    "\n",
    "**Concat pool** is a hybrid approach which does the max pool AND the average pool and concatentates the two results together.\n",
    "\n",
    "\n",
    "## 2. Convolutions From Different Viewpoints\n",
    "\n",
    "Convolutions can be reframed in different ways, as matrix multiplications or as systems of linear equations.\n",
    "\n",
    "[This article](https://medium.com/impactai/cnns-from-different-viewpoints-fab7f52d159c) is a a helpful exploration of the topic.\n"
   ]
  },
  {
   "cell_type": "markdown",
   "metadata": {},
   "source": [
    "\n",
    "## References\n",
    "- [Course lesson page](https://course.fast.ai/Lessons/lesson8.html)\n",
    "- [Neural Networks and Deep Learning](http://neuralnetworksanddeeplearning.com/)\n",
    "- [Convolutions From Different Viewpoints](https://medium.com/impactai/cnns-from-different-viewpoints-fab7f52d159c)\n"
   ]
  },
  {
   "cell_type": "code",
   "execution_count": null,
   "metadata": {},
   "outputs": [],
   "source": []
  }
 ],
 "metadata": {
  "kernelspec": {
   "display_name": "ml-practice",
   "language": "python",
   "name": "python3"
  },
  "language_info": {
   "codemirror_mode": {
    "name": "ipython",
    "version": 3
   },
   "file_extension": ".py",
   "mimetype": "text/x-python",
   "name": "python",
   "nbconvert_exporter": "python",
   "pygments_lexer": "ipython3",
   "version": "3.11.3"
  }
 },
 "nbformat": 4,
 "nbformat_minor": 2
}
