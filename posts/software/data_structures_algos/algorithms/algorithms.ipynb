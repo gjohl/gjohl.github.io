{
 "cells": [
  {
   "cell_type": "raw",
   "metadata": {
    "vscode": {
     "languageId": "raw"
    }
   },
   "source": [
    "---\n",
    "title: \"Algorithms\"\n",
    "description: \"Big G Explains Big O\"\n",
    "date: \"2024-04-17\"\n",
    "categories: [Engineering, ComputerScience, InterviewPrep]\n",
    "# format:\n",
    "#   html:\n",
    "#     code-fold: true\n",
    "---"
   ]
  },
  {
   "cell_type": "markdown",
   "metadata": {},
   "source": [
    "# Algorithms\n",
    "\n",
    "## 1. Big O\n",
    "\n",
    "The mathematical explanation is given in terms of the upper bound of the growth rate of a function. Very briefly: if a function $g(x)$ grows no faster than $f(x)$ then $g$ is a member of $O(f)$. This isn't particularly helpful for intuitive understanding though.\n",
    "\n",
    "The fundamental question is:\n",
    "\n",
    ">If there are $N$ data elements, how many steps will the algorithm take?\n",
    "\n",
    "This helps us understand how the performance of the algorithm changes as the data increases.\n",
    "\n",
    "Basically, count the number of steps the algorithm takes as a function of N (and M if it involves two arrays), then drop any constants and only keep the \"worst\" term since we consider the worst case scenario.\n",
    "\n",
    "Be aware, though, that this doesn't necessarily mean a lower complexity algorithm will always be faster in practice for every use case. Take for exmaple algorithm A, which always takes 100 steps regardless of input size so is $O(1)$, and algorithm B which scales linearly with the input so in $O(N)$.\n",
    "\n",
    "If we apply these to an array with 10 elements, A will take 100 steps and B will take 10 steps. So the \"worse\" algorithm can perform better for small data.\n",
    "\n",
    "When an algorithm is $O(log(N))$, the log is implicitly $log_2$. These come up regularly in algorithms where we divide and conquer, as in the binary search, because we half the data with each iteration. If you see an algorithm has a log term in its complexity, that's generally a clue that there is some binary split happening somewhere.\n"
   ]
  },
  {
   "cell_type": "markdown",
   "metadata": {},
   "source": []
  }
 ],
 "metadata": {
  "language_info": {
   "name": "python"
  }
 },
 "nbformat": 4,
 "nbformat_minor": 2
}
