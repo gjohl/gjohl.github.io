{
 "cells": [
  {
   "cell_type": "raw",
   "id": "9fb6296b",
   "metadata": {
    "vscode": {
     "languageId": "raw"
    }
   },
   "source": [
    "---\n",
    "title: \"Data Structures\"\n",
    "description: \"An Array of Possibilities\"\n",
    "date: \"2024-04-17\"\n",
    "categories: [Engineering, ComputerScience, InterviewPrep]\n",
    "# format:\n",
    "#   html:\n",
    "#     code-fold: true\n",
    "---"
   ]
  },
  {
   "cell_type": "markdown",
   "id": "b8163065",
   "metadata": {},
   "source": [
    "# Data Structures\n",
    "\n",
    "## 1. Data Structure Operations\n",
    "\n",
    "There are common ways that we can interact with different data structures. \n",
    "\n",
    "It is useful to frame the appropriateness of a data structure for a given based on the speed of the operations that are required most for that task.\n",
    "\n",
    "- Read: Look up the value at a particular location in the data structure\n",
    "- Search: Look for a particular value in the data structure.\n",
    "- Insert: Add a new value to the data structure.\n",
    "- Delete: Remove a value from the data structure.\n",
    "\n",
    "Reading is \"find by key\", searching is \"find by value\".\n",
    "\n",
    "\n",
    "## 2. Arrays\n",
    "\n",
    "An array is a list of elements.\n",
    "\n",
    "It is stored in memory as a block of contiguous memory addresses. When the array is declared, the head of the array is stored, i.e. the memory address of the first elelment.\n",
    "\n",
    "The **size** of an array is the number of elements in the array.\n",
    "The **index** denotes where a particular piece of data resides in that array.\n",
    "\n",
    "\n",
    "| Operation | Complexity (Worst) | Complexity (Best)    |\n",
    "|-----------|--------------------|----------------------|\n",
    "| Read      | O(1)               | O(1)                 |\n",
    "| Search    | O(N)               | O(1)                 |\n",
    "| Insertion | O(N)               | O(1)                 |\n",
    "| Deletion  | O(N)               | O(1)                 |\n",
    "\n",
    "\n",
    "### 2.1 Reading an Array\n",
    "\n",
    "A computer can look up a given memory address in constant time.\n",
    "\n",
    "We know the head of the array and the index to look up. So we can read in **O(1)** time.\n",
    "\n",
    "Example:\n",
    "\n",
    "1. Head of the array is memory address 1063.\n",
    "2. We want to look up index 5.\n",
    "3. Read memory address 1068 (because 1063 + 5 = 1068).\n",
    "\n",
    "> If you were asked to raise your right pinky finger, you wouldn't need to search through all of your fingers to find it\n",
    "\n",
    "\n",
    "### 2.2 Searching an Array\n",
    "\n",
    "A computer has immediate access to all of its memory addresses but does not know ahead of time their *contents*.\n",
    "\n",
    "So to find a particular value, we will potentially have to search through every element.\n",
    "\n",
    "Searching an array is therefore **O(N)**.\n",
    "\n",
    "\n",
    "### 2.3. Insertion into an Array\n",
    "\n",
    "The efficiency of inserting into an array depends on **where** in the array you are inserting.\n",
    "\n",
    "If inserting an element at the end, we simply place the new value at that memory address (assuming the memory address is empty). This is a constant time operation O(1).\n",
    "\n",
    "But if we insert at any other position, we need to:\n",
    "\n",
    "1. Shift each of the existing elements to the right of the insert index 1 position rightwards\n",
    "2. Insert the new value in the gap created.\n",
    "\n",
    "So to insert at index $i$, there are $N - i$ elements to shift (Step 1), then 1 more operation to insert the new value (Step 2).\n",
    "\n",
    "In the worst case - inserting at the start of an array - insertion is **O(N)**.\n",
    "\n",
    "\n",
    "### 2.4. Deletion from an Array\n",
    "\n",
    "Similarly, the efficiency of deletion depends on the index being deleted.\n",
    "\n",
    "If deleting the last element, there is simply 1 operation to clear the memory address, so this is a constant time operation O(1).\n",
    "\n",
    "But if we delete an element in any other position, we need to:\n",
    "\n",
    "1. Delete the element. This leaves a gap in the middle of the array.\n",
    "2. Shift each of the elements to the right of the gap leftwards, to fill the gap.\n",
    "\n",
    "So to delete at index $i$, we do 1 operation to delete that element (Step 1), then shift the next $N-i$ elements leftwards (Step 2).\n",
    "\n",
    "In the worst case - deleting the first element of the array - deletion is **O(N)**.\n",
    "\n",
    "\n",
    "## 3. Sets\n",
    "\n",
    "A set is a collection of *unique* elements, i.e. duplicate values are not allowed.\n",
    "\n",
    "There are different ways of implementing sets: array-based sets and hash-sets are discussed here.\n",
    "\n",
    "Note that Python already has sets, but we'll give outline implementations for clarity.\n",
    "\n",
    "\n",
    "### 3.1. Array-based Sets\n",
    "\n",
    "An array is used to store elements. As with standard arrays, elements are stored in contiguous memory locations, and each element has a unique index.\n",
    "\n",
    "Example in Python:"
   ]
  },
  {
   "cell_type": "code",
   "execution_count": null,
   "id": "9d00193f",
   "metadata": {},
   "outputs": [],
   "source": [
    "class ArraySet:\n",
    "    \n",
    "    def __init__(self):\n",
    "        self.elements = []\n",
    "        \n",
    "    def __repr__(self):\n",
    "        return str(self.elements)\n",
    "\n",
    "    def add(self, element):\n",
    "        # Search the array for `element`, then append it if it is not a duplicate.\n",
    "        if element not in self.elements:\n",
    "            self.elements.append(element)\n",
    "\n",
    "    def remove(self, element):\n",
    "        # Search the array for the value, then remove it.\n",
    "        if element in self.elements:\n",
    "            self.elements.remove(element)\n",
    "\n",
    "    def contains(self, element):\n",
    "        return element in self.elements"
   ]
  },
  {
   "cell_type": "code",
   "execution_count": 13,
   "id": "5725976b",
   "metadata": {},
   "outputs": [
    {
     "name": "stdout",
     "output_type": "stream",
     "text": [
      "[1, 2, 3]\n"
     ]
    }
   ],
   "source": [
    "set_arr = ArraySet()\n",
    "set_arr.add(1)\n",
    "set_arr.add(2)\n",
    "set_arr.add(3)\n",
    "print(set_arr)"
   ]
  },
  {
   "cell_type": "markdown",
   "id": "bcbd35b8",
   "metadata": {},
   "source": [
    "If we try to add a duplicate value it does not get added to the array:"
   ]
  },
  {
   "cell_type": "code",
   "execution_count": 14,
   "id": "a151b8f0",
   "metadata": {},
   "outputs": [
    {
     "name": "stdout",
     "output_type": "stream",
     "text": [
      "[1, 2, 3]\n"
     ]
    }
   ],
   "source": [
    "set_arr.add(2)\n",
    "print(set_arr)"
   ]
  },
  {
   "cell_type": "markdown",
   "id": "22003427",
   "metadata": {},
   "source": [
    "The read, search and delete operations for an array-based set are identical to the standard array.\n",
    "\n",
    "**Insert** operations are where array-based sets diverge. We always insert at the end of a set, which is constant time. *But* we need to search the array every time to ensure the new value is not a duplicate.\n",
    "\n",
    "So we always need to do a search of all N elements, and then 1 insert operation at the end.\n",
    "\n",
    "This means even in the best case, insertion into an array-based set is O(N) compared to O(1) when inserting at the end of a standard array.\n",
    "\n",
    "The reason for using a set is because the use case requires no duplicates, not because it is inherently \"quicker\" than a standard array.\n",
    "\n",
    "\n",
    "| Operation | Complexity (Worst) | Complexity (Best)    |\n",
    "|-----------|--------------------|----------------------|\n",
    "| Read      | O(1)               | O(1)                 |\n",
    "| Search    | O(N)               | O(1)                 |\n",
    "| Insertion | O(N)               | **O(N)**             |\n",
    "| Deletion  | O(N)               | O(1)                 |"
   ]
  },
  {
   "cell_type": "markdown",
   "id": "863d064b",
   "metadata": {},
   "source": [
    "### 3.2. Hash Sets\n",
    "\n",
    "A hash-based set computes the hash of each element and uses this to store elements. \n",
    "\n",
    "An example implementation implements the set as key-value pairs where keys are the hash of the elements and values are a placeholder value like True, or an array to handle hash collisions.\n",
    "\n",
    "When there is a hash collision between mutliple elements, a typical approach is to insert all of these elements as an array under the same hash key.\n",
    "\n",
    "The worst case scenario is caused by the extreme edge case where hash collisions are so prominent that *every* element has the same hash, essentially reducing the hash set to an array. This is generally avoided as long as the hash algorithm is decent.\n",
    "\n",
    "For this reason, the **average** complexity is more meaningful in the table below. (Note that best has been replace with average in the table headings.)\n",
    "\n",
    "Hash-based sets do not support reading by index, unlike array-based sets. But all other operations are typically constant time.\n",
    "\n",
    "| Operation | Complexity (Worst) | Complexity **(Average)** |\n",
    "|-----------|--------------------|--------------------------|\n",
    "| Read      | N/A                | N/A                      |\n",
    "| Search    | O(N)               | O(1)                     |\n",
    "| Insertion | O(N)               | O(1)                     |\n",
    "| Deletion  | O(N)               | O(1)                     |\n",
    "\n",
    "\n",
    "Example in Python:"
   ]
  },
  {
   "cell_type": "code",
   "execution_count": null,
   "id": "323fe1d9",
   "metadata": {},
   "outputs": [],
   "source": [
    "class HashSet:\n",
    "    def __init__(self):\n",
    "        # Use a dict to represent the hash set.\n",
    "        self.elements = {}\n",
    "        \n",
    "    def __repr__(self):\n",
    "        return str(self.elements)\n",
    "\n",
    "    def add(self, element):\n",
    "        # The key is the element and the value is arbitrary.\n",
    "        # There are two extensions we could add here:\n",
    "        #   1. The key should really be the *hash* of the element, not just the element itself.\n",
    "        #      Essentially, this is using an implicit hash function which is just a pass-through:\n",
    "        #      hash_func = lambda x: x\n",
    "        #   2. Handle hash collisions by making the value an array which is appended to in the case of collisions.\n",
    "        self.elements[element] = True\n",
    "\n",
    "    def remove(self, element):\n",
    "        if element in self.elements:\n",
    "            del self.elements[element]\n",
    "\n",
    "    def contains(self, element):\n",
    "        return element in self.elements"
   ]
  },
  {
   "cell_type": "code",
   "execution_count": 21,
   "id": "d6aa5213",
   "metadata": {
    "scrolled": true
   },
   "outputs": [
    {
     "name": "stdout",
     "output_type": "stream",
     "text": [
      "{1: True, 2: True, 3: True}\n"
     ]
    }
   ],
   "source": [
    "set_hash = HashSet()\n",
    "set_hash.add(1)\n",
    "set_hash.add(2)\n",
    "set_hash.add(3)\n",
    "print(set_hash)"
   ]
  },
  {
   "cell_type": "markdown",
   "id": "3fa8a6ba",
   "metadata": {},
   "source": [
    "If we try to add a duplicate value it simply overwrites the previous value:"
   ]
  },
  {
   "cell_type": "code",
   "execution_count": 23,
   "id": "0497783d",
   "metadata": {},
   "outputs": [
    {
     "name": "stdout",
     "output_type": "stream",
     "text": [
      "{1: True, 2: True, 3: True}\n"
     ]
    }
   ],
   "source": [
    "set_hash.add(2)\n",
    "print(set_hash)"
   ]
  },
  {
   "cell_type": "markdown",
   "id": "f38badae",
   "metadata": {},
   "source": [
    "## 4. Ordered Arrays\n",
    "\n",
    "These are identical to regular arrays with the additional condition that elements are always ordered.\n",
    "\n",
    "This obviously relies heavily on efficient sorting. This is a topic unto itself; see notes on sorting for more info.\n",
    "\n",
    "When **inserting** into an ordered array, we need to:\n",
    "\n",
    "1. Search for the correct position - Look at each element in turn and compare if the insert element is greater than it\n",
    "2. Insert into the array\n",
    "\n",
    "These two terms increase in opposite directions depending on the insert position. The further into the array we need to search (Step 1), the fewer elements we need to shift for the insertion (Step 2).\n",
    "\n",
    "\n",
    "### 4.1. Binary Search\n",
    "\n",
    "In a typical (unordered) array, the only option for searching is a *linear search*: we loop through each element in turn until we find our target.\n",
    "\n",
    "For an ordered array, we can improve on this using a **binary search**.\n",
    "\n",
    "1. Pick the middle element. \n",
    "2. If the target value is greater than this, search the right half, otherwise search the left half.\n",
    "3. Repeat this recursively until we find our target.\n",
    "\n",
    "\n",
    "This approach splits the search region in half for every constant time comparison operation.\n",
    "\n",
    "Or put another way, if we doubled the number of elements in the array, the binary search would only have to perform 1 extra step. For $N$ elements we need $log_2(N)$ binary splits.\n",
    "\n",
    "Therefore, the time complexity is **O(log(N))**."
   ]
  },
  {
   "cell_type": "code",
   "execution_count": 23,
   "id": "00d5950d",
   "metadata": {},
   "outputs": [],
   "source": [
    "def binary_search(ordered_array, target):\n",
    "    \"\"\"Perform a binary search for the target value on the given ordered array.\n",
    "\n",
    "    Parameters\n",
    "    ----------\n",
    "    ordered_array: list\n",
    "        The array to search in.\n",
    "    target: int\n",
    "        The target value we are searching for.\n",
    "\n",
    "    Returns\n",
    "    -------\n",
    "    target_index: int\n",
    "        The index of the target value.\n",
    "        Returns None if the value does not exist in the array.\n",
    "    \"\"\"\n",
    "    # Establish the lower and upper bounds of our search.\n",
    "    # Initially, this is the entire array\n",
    "    idx_lower = 0\n",
    "    idx_upper = len(ordered_array) - 1\n",
    "\n",
    "    while idx_lower <= idx_upper:\n",
    "        # Find the midpoint between our bounds\n",
    "        idx_midpoint = (idx_upper + idx_lower) // 2\n",
    "        value_at_midpoint = ordered_array[idx_midpoint]\n",
    "\n",
    "        # Compare to our target value and narrow the upper or lower bound accordingly\n",
    "        if value_at_midpoint == target:\n",
    "            # We have found the target!\n",
    "            return idx_midpoint\n",
    "        elif value_at_midpoint < target:\n",
    "            # The target is bigger so must be to the right side\n",
    "            idx_lower = idx_midpoint + 1\n",
    "        elif value_at_midpoint > target:\n",
    "            # The target is smaller so must be on the left side\n",
    "            idx_upper = idx_midpoint - 1\n",
    "\n",
    "    # If the lower and upper bounds meet we have exhausted the whole array, so the target is not in the array\n",
    "    return None"
   ]
  },
  {
   "cell_type": "markdown",
   "id": "c436636e",
   "metadata": {},
   "source": [
    "Let's try this on a few examples."
   ]
  },
  {
   "cell_type": "code",
   "execution_count": 34,
   "id": "39a2fd2f",
   "metadata": {},
   "outputs": [],
   "source": [
    "ordered_array = [1, 2, 4, 5, 7, 8, 9, 10, 13, 14]"
   ]
  },
  {
   "cell_type": "code",
   "execution_count": 35,
   "id": "f4703523",
   "metadata": {},
   "outputs": [
    {
     "data": {
      "text/plain": [
       "4"
      ]
     },
     "execution_count": 35,
     "metadata": {},
     "output_type": "execute_result"
    }
   ],
   "source": [
    "binary_search(ordered_array, 7)"
   ]
  },
  {
   "cell_type": "code",
   "execution_count": 36,
   "id": "d8cb4c44",
   "metadata": {},
   "outputs": [
    {
     "data": {
      "text/plain": [
       "9"
      ]
     },
     "execution_count": 36,
     "metadata": {},
     "output_type": "execute_result"
    }
   ],
   "source": [
    "binary_search(ordered_array, 14)"
   ]
  },
  {
   "cell_type": "markdown",
   "id": "a57a90e4",
   "metadata": {},
   "source": [
    "Now a value that's not in the array:"
   ]
  },
  {
   "cell_type": "code",
   "execution_count": 37,
   "id": "7c0945cd",
   "metadata": {},
   "outputs": [
    {
     "data": {
      "text/plain": [
       "9"
      ]
     },
     "execution_count": 37,
     "metadata": {},
     "output_type": "execute_result"
    }
   ],
   "source": [
    "binary_search(ordered_array, 14)"
   ]
  },
  {
   "cell_type": "markdown",
   "id": "0606d276",
   "metadata": {},
   "source": [
    "Compare this with a linear search"
   ]
  },
  {
   "cell_type": "code",
   "execution_count": 46,
   "id": "23677ede",
   "metadata": {},
   "outputs": [],
   "source": [
    "def linear_search(array, target):\n",
    "    \"\"\"Perform a linear search for the target value on the given array.\n",
    "\n",
    "    Parameters\n",
    "    ----------\n",
    "    array: list\n",
    "        The array to search in.\n",
    "    target: int\n",
    "        The target value we are searching for.\n",
    "\n",
    "    Returns\n",
    "    -------\n",
    "    target_index: int\n",
    "        The index of the target value.\n",
    "        Returns None if the value does not exist in the array.\n",
    "    \"\"\"\n",
    "    # Loop through every element in the array.\n",
    "    # Note: we should really use enumerate() rather than range(len()) but I wanted to keep this generic \n",
    "    # without too many python-specific helpers\n",
    "    for idx in range(len(array)):\n",
    "        if array[idx] == target:\n",
    "            return idx\n",
    "    \n",
    "    # If we reach the end of the array without returning a value, then the target does not exist in the array.\n",
    "    return None"
   ]
  },
  {
   "cell_type": "markdown",
   "id": "6fc72a69",
   "metadata": {},
   "source": [
    "Let's compare how they perform for a reasonably big array with 1 million elements."
   ]
  },
  {
   "cell_type": "code",
   "execution_count": null,
   "id": "c41d3476",
   "metadata": {},
   "outputs": [],
   "source": [
    "array = [k for k in range(1000000)]"
   ]
  },
  {
   "cell_type": "code",
   "execution_count": 51,
   "metadata": {},
   "outputs": [
    {
     "name": "stdout",
     "output_type": "stream",
     "text": [
      "1.13 µs ± 56.9 ns per loop (mean ± std. dev. of 7 runs, 1,000,000 loops each)\n"
     ]
    }
   ],
   "source": [
    "%%timeit\n",
    "binary_search(array, 987654)"
   ]
  },
  {
   "cell_type": "code",
   "execution_count": 52,
   "id": "bb5d3a90",
   "metadata": {},
   "outputs": [
    {
     "name": "stdout",
     "output_type": "stream",
     "text": [
      "15.9 ms ± 320 µs per loop (mean ± std. dev. of 7 runs, 100 loops each)\n"
     ]
    }
   ],
   "source": [
    "%%timeit\n",
    "linear_search(array, 987654)"
   ]
  },
  {
   "cell_type": "markdown",
   "id": "530d113f",
   "metadata": {},
   "source": [
    "The binary search is ~14000x faster than the linear search!"
   ]
  },
  {
   "cell_type": "code",
   "execution_count": null,
   "id": "55589e56",
   "metadata": {},
   "outputs": [],
   "source": []
  }
 ],
 "metadata": {
  "kernelspec": {
   "display_name": "Python 3 (ipykernel)",
   "language": "python",
   "name": "python3"
  },
  "language_info": {
   "codemirror_mode": {
    "name": "ipython",
    "version": 3
   },
   "file_extension": ".py",
   "mimetype": "text/x-python",
   "name": "python",
   "nbconvert_exporter": "python",
   "pygments_lexer": "ipython3",
   "version": "3.11.3"
  }
 },
 "nbformat": 4,
 "nbformat_minor": 5
}
