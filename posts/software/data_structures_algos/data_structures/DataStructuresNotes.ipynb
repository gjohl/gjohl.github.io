{
 "cells": [
  {
   "cell_type": "raw",
   "id": "9fb6296b",
   "metadata": {
    "vscode": {
     "languageId": "raw"
    }
   },
   "source": [
    "---\n",
    "title: \"Data Structures\"\n",
    "description: \"An Array of Possibilities\"\n",
    "date: \"2024-04-17\"\n",
    "categories: [Engineering, ComputerScience, InterviewPrep]\n",
    "# format:\n",
    "#   html:\n",
    "#     code-fold: true\n",
    "---"
   ]
  },
  {
   "cell_type": "markdown",
   "id": "b8163065",
   "metadata": {},
   "source": [
    "# Data Structures\n",
    "\n",
    "## 1. Data Structure Operations\n",
    "\n",
    "There are common ways that we can interact with different data structures. \n",
    "\n",
    "It is useful to frame the appropriateness of a data structure for a given based on the speed of the operations that are required most for that task.\n",
    "\n",
    "- Read: Look up the value at a particular location in the data structure\n",
    "- Search: Look for a particular value in the data structure.\n",
    "- Insert: Add a new value to the data structure.\n",
    "- Delete: Remove a value from the data structure.\n",
    "\n",
    "Reading is \"find by key\", searching is \"find by value\".\n",
    "\n",
    "\n",
    "## 2. Arrays\n",
    "\n",
    "An array is a list of elements.\n",
    "\n",
    "It is stored in memory as a block of contiguous memory addresses. When the array is declared, the head of the array is stored, i.e. the memory address of the first elelment.\n",
    "\n",
    "The **size** of an array is the number of elements in the array.\n",
    "The **index** denotes where a particular piece of data resides in that array.\n",
    "\n",
    "\n",
    "| Operation | Complexity (Worst) | Complexity (Best)    |\n",
    "|-----------|--------------------|----------------------|\n",
    "| Read      | O(1)               | O(1)                 |\n",
    "| Search    | O(N)               | O(1)                 |\n",
    "| Insertion | O(N)               | O(1)                 |\n",
    "| Deletion  | O(N)               | O(1)                 |\n",
    "\n",
    "\n",
    "### 2.1 Reading an Array\n",
    "\n",
    "A computer can look up a given memory address in constant time.\n",
    "\n",
    "We know the head of the array and the index to look up. So we can read in **O(1)** time.\n",
    "\n",
    "Example:\n",
    "\n",
    "1. Head of the array is memory address 1063.\n",
    "2. We want to look up index 5.\n",
    "3. Read memory address 1068 (because 1063 + 5 = 1068).\n",
    "\n",
    "> If you were asked to raise your right pinky finger, you wouldn't need to search through all of your fingers to find it\n",
    "\n",
    "\n",
    "### 2.2 Searching an Array\n",
    "\n",
    "A computer has immediate access to all of its memory addresses but does not know ahead of time their *contents*.\n",
    "\n",
    "So to find a particular value, we will potentially have to search through every element.\n",
    "\n",
    "Searching an array is therefore **O(N)**.\n",
    "\n",
    "\n",
    "### 2.3. Insertion into an Array\n",
    "\n",
    "The efficiency of inserting into an array depends on **where** in the array you are inserting.\n",
    "\n",
    "If inserting an element at the end, we simply place the new value at that memory address (assuming the memory address is empty). This is a constant time operation O(1).\n",
    "\n",
    "But if we insert at any other position, we need to:\n",
    "\n",
    "1. Shift each of the existing elements to the right of the insert index 1 position rightwards\n",
    "2. Insert the new value in the gap created.\n",
    "\n",
    "So to insert at index $i$, there are $N - i$ elements to shift (Step 1), then 1 more operation to insert the new value (Step 2).\n",
    "\n",
    "In the worst case - inserting at the start of an array - insertion is **O(N)**.\n",
    "\n",
    "\n",
    "### 2.4. Deletion from an Array\n",
    "\n",
    "Similarly, the efficiency of deletion depends on the index being deleted.\n",
    "\n",
    "If deleting the last element, there is simply 1 operation to clear the memory address, so this is a constant time operation O(1).\n",
    "\n",
    "But if we delete an element in any other position, we need to:\n",
    "\n",
    "1. Delete the element. This leaves a gap in the middle of the array.\n",
    "2. Shift each of the elements to the right of the gap leftwards, to fill the gap.\n",
    "\n",
    "So to delete at index $i$, we do 1 operation to delete that element (Step 1), then shift the next $N-i$ elements leftwards (Step 2).\n",
    "\n",
    "In the worst case - deleting the first element of the array - deletion is **O(N)**.\n",
    "\n",
    "\n",
    "## 3. Sets\n",
    "\n",
    "A set is a collection of *unique* elements, i.e. duplicate values are not allowed.\n",
    "\n",
    "There are different ways of implementing sets: array-based sets and hash-sets are discussed here.\n",
    "\n",
    "Note that Python already has sets, but we'll give outline implementations for clarity.\n",
    "\n",
    "\n",
    "### 3.1. Array-based Sets\n",
    "\n",
    "An array is used to store elements. As with standard arrays, elements are stored in contiguous memory locations, and each element has a unique index.\n",
    "\n",
    "Example in Python:"
   ]
  },
  {
   "cell_type": "code",
   "execution_count": null,
   "id": "9d00193f",
   "metadata": {},
   "outputs": [],
   "source": [
    "class ArraySet:\n",
    "    \n",
    "    def __init__(self):\n",
    "        self.elements = []\n",
    "        \n",
    "    def __repr__(self):\n",
    "        return str(self.elements)\n",
    "\n",
    "    def add(self, element):\n",
    "        # Search the array for `element`, then append it if it is not a duplicate.\n",
    "        if element not in self.elements:\n",
    "            self.elements.append(element)\n",
    "\n",
    "    def remove(self, element):\n",
    "        # Search the array for the value, then remove it.\n",
    "        if element in self.elements:\n",
    "            self.elements.remove(element)\n",
    "\n",
    "    def contains(self, element):\n",
    "        return element in self.elements"
   ]
  },
  {
   "cell_type": "code",
   "execution_count": 13,
   "id": "5725976b",
   "metadata": {},
   "outputs": [
    {
     "name": "stdout",
     "output_type": "stream",
     "text": [
      "[1, 2, 3]\n"
     ]
    }
   ],
   "source": [
    "set_arr = ArraySet()\n",
    "set_arr.add(1)\n",
    "set_arr.add(2)\n",
    "set_arr.add(3)\n",
    "print(set_arr)"
   ]
  },
  {
   "cell_type": "markdown",
   "id": "bcbd35b8",
   "metadata": {},
   "source": [
    "If we try to add a duplicate value it does not get added to the array:"
   ]
  },
  {
   "cell_type": "code",
   "execution_count": 14,
   "id": "a151b8f0",
   "metadata": {},
   "outputs": [
    {
     "name": "stdout",
     "output_type": "stream",
     "text": [
      "[1, 2, 3]\n"
     ]
    }
   ],
   "source": [
    "set_arr.add(2)\n",
    "print(set_arr)"
   ]
  },
  {
   "cell_type": "markdown",
   "id": "22003427",
   "metadata": {},
   "source": [
    "The read, search and delete operations for an array-based set are identical to the standard array.\n",
    "\n",
    "**Insert** operations are where array-based sets diverge. We always insert at the end of a set, which is constant time. *But* we need to search the array every time to ensure the new value is not a duplicate.\n",
    "\n",
    "So we always need to do a search of all N elements, and then 1 insert operation at the end.\n",
    "\n",
    "This means even in the best case, insertion into an array-based set is O(N) compared to O(1) when inserting at the end of a standard array.\n",
    "\n",
    "The reason for using a set is because the use case requires no duplicates, not because it is inherently \"quicker\" than a standard array.\n",
    "\n",
    "\n",
    "| Operation | Complexity (Worst) | Complexity (Best)    |\n",
    "|-----------|--------------------|----------------------|\n",
    "| Read      | O(1)               | O(1)                 |\n",
    "| Search    | O(N)               | O(1)                 |\n",
    "| Insertion | O(N)               | **O(N)**             |\n",
    "| Deletion  | O(N)               | O(1)                 |"
   ]
  },
  {
   "cell_type": "markdown",
   "id": "863d064b",
   "metadata": {},
   "source": [
    "### 3.2. Hash Sets\n",
    "\n",
    "A hash-based set computes the hash of each element and uses this to store elements. \n",
    "\n",
    "An example implementation implements the set as key-value pairs where keys are the hash of the elements and values are a placeholder value like True, or an array to handle hash collisions.\n",
    "\n",
    "When there is a hash collision between mutliple elements, a typical approach is to insert all of these elements as an array under the same hash key.\n",
    "\n",
    "The worst case scenario is caused by the extreme edge case where hash collisions are so prominent that *every* element has the same hash, essentially reducing the hash set to an array. This is generally avoided as long as the hash algorithm is decent.\n",
    "\n",
    "For this reason, the **average** complexity is more meaningful in the table below. (Note that best has been replace with average in the table headings.)\n",
    "\n",
    "Hash-based sets do not support reading by index, unlike array-based sets. But all other operations are typically constant time.\n",
    "\n",
    "| Operation | Complexity (Worst) | Complexity **(Average)** |\n",
    "|-----------|--------------------|--------------------------|\n",
    "| Read      | N/A                | N/A                      |\n",
    "| Search    | O(N)               | O(1)                     |\n",
    "| Insertion | O(N)               | O(1)                     |\n",
    "| Deletion  | O(N)               | O(1)                     |\n",
    "\n",
    "\n",
    "Example in Python:"
   ]
  },
  {
   "cell_type": "code",
   "execution_count": null,
   "id": "323fe1d9",
   "metadata": {},
   "outputs": [],
   "source": [
    "class HashSet:\n",
    "    def __init__(self):\n",
    "        # Use a dict to represent the hash set.\n",
    "        self.elements = {}\n",
    "        \n",
    "    def __repr__(self):\n",
    "        return str(self.elements)\n",
    "\n",
    "    def add(self, element):\n",
    "        # The key is the element and the value is arbitrary.\n",
    "        # There are two extensions we could add here:\n",
    "        #   1. The key should really be the *hash* of the element, not just the element itself.\n",
    "        #      Essentially, this is using an implicit hash function which is just a pass-through:\n",
    "        #      hash_func = lambda x: x\n",
    "        #   2. Handle hash collisions by making the value an array which is appended to in the case of collisions.\n",
    "        self.elements[element] = True\n",
    "\n",
    "    def remove(self, element):\n",
    "        if element in self.elements:\n",
    "            del self.elements[element]\n",
    "\n",
    "    def contains(self, element):\n",
    "        return element in self.elements"
   ]
  },
  {
   "cell_type": "code",
   "execution_count": 21,
   "id": "d6aa5213",
   "metadata": {
    "scrolled": true
   },
   "outputs": [
    {
     "name": "stdout",
     "output_type": "stream",
     "text": [
      "{1: True, 2: True, 3: True}\n"
     ]
    }
   ],
   "source": [
    "set_hash = HashSet()\n",
    "set_hash.add(1)\n",
    "set_hash.add(2)\n",
    "set_hash.add(3)\n",
    "print(set_hash)"
   ]
  },
  {
   "cell_type": "markdown",
   "id": "3fa8a6ba",
   "metadata": {},
   "source": [
    "If we try to add a duplicate value it simply overwrites the previous value:"
   ]
  },
  {
   "cell_type": "code",
   "execution_count": 23,
   "id": "0497783d",
   "metadata": {},
   "outputs": [
    {
     "name": "stdout",
     "output_type": "stream",
     "text": [
      "{1: True, 2: True, 3: True}\n"
     ]
    }
   ],
   "source": [
    "set_hash.add(2)\n",
    "print(set_hash)"
   ]
  },
  {
   "cell_type": "markdown",
   "id": "f38badae",
   "metadata": {},
   "source": [
    "<!-- ## Ordered Arrays\n",
    "\n",
    "\n",
    "# Algorithms -->"
   ]
  },
  {
   "cell_type": "markdown",
   "id": "39a2fd2f",
   "metadata": {},
   "source": []
  }
 ],
 "metadata": {
  "kernelspec": {
   "display_name": "Python 3 (ipykernel)",
   "language": "python",
   "name": "python3"
  },
  "language_info": {
   "codemirror_mode": {
    "name": "ipython",
    "version": 3
   },
   "file_extension": ".py",
   "mimetype": "text/x-python",
   "name": "python",
   "nbconvert_exporter": "python",
   "pygments_lexer": "ipython3",
   "version": "3.8.12"
  }
 },
 "nbformat": 4,
 "nbformat_minor": 5
}
