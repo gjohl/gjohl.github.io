{
 "cells": [
  {
   "cell_type": "raw",
   "metadata": {
    "vscode": {
     "languageId": "raw"
    }
   },
   "source": [
    "---\n",
    "title: \"Sorting Algorithms\"\n",
    "description: \"Algorithms? Sorted, mate.\"\n",
    "date: \"2024-05-06\"\n",
    "categories: [Engineering, ComputerScience, InterviewPrep, Algorithms]\n",
    "# format:\n",
    "#   html:\n",
    "#     code-fold: true\n",
    "---"
   ]
  },
  {
   "cell_type": "markdown",
   "metadata": {},
   "source": [
    "# Sorting\n",
    "\n",
    "Sorting algorithms come up so frequently that they deserve their own section.\n",
    "\n",
    "In general, we want to solve the problem:\n",
    "\n",
    "> Given an array of unsorted values, how can we sort them in ascending order?\n",
    "\n",
    "\n",
    "Algorithm | Best Case | Average Case | Worst Case\n",
    "----------|-----------|--------------|-----------\n",
    "Bubble sort | $N^2$ | $N^2$ | $N^2$ \n",
    "Selection sort | $\\frac{N^2}{2}$ | $\\frac{N^2}{2}$ | $\\frac{N^2}{2}$\n",
    "Insertion sort | $N$ | $\\frac{N^2}{2}$ | $N^2$\n",
    "Quicksort | $N log N$ | $N log N$ | $N^2$\n",
    "Merge sort | $N log N$ | $N log N$ | $N log N$\n",
    "Heap sort | $N log N$ | $N log N$ | $N log N$\n",
    "Counting sort | $N + K$ | $N + K$ | $N + K$\n",
    "Radix sort | $N * D$ | $N * D$ | $N * D$\n",
    "\n",
    "\n",
    "Sorting is often a pre-requisite for other algorithms, so often as a pre-processing step we want to presort the array.\n",
    "This means the efficiency of the sort is important to the overall efficiency of many other problem types.\n",
    "\n",
    "## 1. Bubble Sort\n",
    "\n",
    "### 1.1. Algorithm\n",
    "We \"bubble up\" the next highest unsorted number on each pass-through.\n",
    "\n",
    "1. Start with 2 pointers pointing at the first two values in the array. \n",
    "2. Compare the left and right values. If `left_value > right_value`, swap them. Otherwise, do nothing.\n",
    "3. Move both pointers one cell rightwards.\n",
    "4. Repeat Steps 2-3 until we reach values that have already been sorted. This completes the first \"pass-through\" and means we have \"bubbled up\" the biggest number to the end of the array.\n",
    "5. Start over. repeat Steps 1-4 to bubble up the second biggest number into the second to last position. Repeat this until we perform a pass through with no swaps.\n",
    "\n",
    "\n",
    "### 1.2. Implementation\n"
   ]
  },
  {
   "cell_type": "code",
   "execution_count": 76,
   "metadata": {},
   "outputs": [],
   "source": [
    "def bubble_sort(array):\n",
    "    \"\"\"Bubble sort algorithm to sort an array into ascending order.\n",
    "\n",
    "    Note we ignore edge cases for the sake of clarity.\n",
    "    These are left as an exercise for the reader:\n",
    "    - array is empty\n",
    "    - array has only 1 element\n",
    "    \n",
    "    Parameters\n",
    "    ----------\n",
    "    array: list\n",
    "        The array that we wish to sort.\n",
    "\n",
    "    Returns\n",
    "    -------\n",
    "    array: list\n",
    "        The input array sorted in-place.\n",
    "    \"\"\"\n",
    "    # Initially the entire array is unsorted\n",
    "    last_unsorted_index = len(array) - 1\n",
    "    is_sorted = False\n",
    "\n",
    "    while not is_sorted:\n",
    "        # Set this to True before we pass through the elements, \n",
    "        # then if we need to perform a swap the array is not sorted so we set it to False\n",
    "        is_sorted = True\n",
    "\n",
    "        # Perform a pass-through\n",
    "        for left_pointer in range(last_unsorted_index):\n",
    "            right_pointer = left_pointer + 1\n",
    "\n",
    "            if array[left_pointer] > array[right_pointer]:\n",
    "                # Swap the values\n",
    "                array[left_pointer], array[right_pointer] = array[right_pointer], array[left_pointer]\n",
    "                is_sorted = False\n",
    "\n",
    "        # The pass-through is finished so the next highest value has been \"bubbled up\".        \n",
    "        last_unsorted_index -= 1\n",
    "\n",
    "    return array"
   ]
  },
  {
   "cell_type": "code",
   "execution_count": 77,
   "metadata": {},
   "outputs": [
    {
     "data": {
      "text/plain": [
       "[0, 1, 3, 5, 7, 8, 8, 9, 12, 23, 69, 420]"
      ]
     },
     "execution_count": 77,
     "metadata": {},
     "output_type": "execute_result"
    }
   ],
   "source": [
    "input_array = [8, 7, 5, 3, 1, 9, 0, 8, 23, 69, 420, 12]\n",
    "bubble_sort(input_array)"
   ]
  },
  {
   "cell_type": "markdown",
   "metadata": {},
   "source": [
    "### 1.3. Complexity\n",
    "\n",
    "Each pass through loops through one fewer element:\n",
    "\n",
    "Pass-through number | Number of operations\n",
    "---------|--------------\n",
    "1  | N-1\n",
    "2  | N-2\n",
    "3  | N-3\n",
    "4  | N-4\n",
    "5  | N-5\n",
    "...| ...\n",
    "k  | N-k\n",
    "\n",
    "So in total, there are $(N-1) + (N-2) + (N-3) + ... + 1$ comparisons. This is the sum of an arithmetic progression, which we can calculate as $\\frac{N^2}{2}$.\n",
    "\n",
    "Also worth noting that in the worst case - an input array in descending order - each comparison will also result in a swap. This does not affect the Big-O complexity but would slow down the run time in practice.\n",
    "There are $\\frac{N^2}{2}$ comparisons and up to $\\frac{N^2}{2}$ swaps, resulting in $O(N^2)$ total operations.\n",
    "\n",
    "\n",
    "The complexity is therefore **$O(N^2)$**.\n",
    "\n",
    "In general, any nested loop should be a hint at quadratic time complexity."
   ]
  },
  {
   "cell_type": "markdown",
   "metadata": {},
   "source": [
    "## 2. Selection Sort\n",
    "\n",
    "### 2.1. Algorithm\n",
    "\n",
    "Find the smallest value from the unsorted part of the array and put it at the beginning.\n",
    "\n",
    "1. Check each cell of the array from left to right to find the lowest value. Store the index of the running minimum value.\n",
    "2. At the end of pass-through $j$ (starting at 0), swap the minimum value with the one at index $j$.\n",
    "3. Repeat steps 1-2 until we reach a pass-through that would start at the end of the array, i.e. $j = N-1$\n",
    "\n",
    "\n",
    "### 2.2. Implementation"
   ]
  },
  {
   "cell_type": "code",
   "execution_count": 72,
   "metadata": {},
   "outputs": [],
   "source": [
    "def selection_sort(array):\n",
    "    \"\"\"Selection sort algorithm to sort an array into ascending order.\n",
    "    \n",
    "    Parameters\n",
    "    ----------\n",
    "    array: list\n",
    "        The array that we wish to sort.\n",
    "\n",
    "    Returns\n",
    "    -------\n",
    "    array: list\n",
    "        The input array sorted in-place.\n",
    "    \"\"\"\n",
    "    array_length = len(array)\n",
    "\n",
    "    # Loop through all array elements\n",
    "    for pass_through_number in range(array_length):\n",
    "\n",
    "        # Find the minimum element in the remaining unsorted array\n",
    "        min_index = pass_through_number\n",
    "        for idx_unsorted_section in range(pass_through_number + 1, array_length):\n",
    "            if array[idx_unsorted_section] < array[min_index]:\n",
    "                min_index = idx_unsorted_section\n",
    "\n",
    "        # Swap the found minimum element with the first element\n",
    "        array[pass_through_number], array[min_index] = array[min_index], array[pass_through_number]\n",
    "    \n",
    "    return array"
   ]
  },
  {
   "cell_type": "code",
   "execution_count": 74,
   "metadata": {},
   "outputs": [
    {
     "data": {
      "text/plain": [
       "[0, 1, 3, 5, 7, 8, 8, 9, 12, 23, 69, 420]"
      ]
     },
     "execution_count": 74,
     "metadata": {},
     "output_type": "execute_result"
    }
   ],
   "source": [
    "input_array = [8, 7, 5, 3, 1, 9, 0, 8, 23, 69, 420, 12]\n",
    "selection_sort(input_array)"
   ]
  },
  {
   "cell_type": "markdown",
   "metadata": {},
   "source": [
    "### 2.3. Complexity\n",
    "\n",
    "As with bubble sort, on each pass-through we loop through one fewer element, so there are $\\frac{N^2}{2}$ comparisons. But each pass-through only performs 1 swap, so the total number of operations is $\\frac{N^2}{2} + N$.\n",
    "\n",
    "This is still therefore **$O(N^2)$** complexity, but it should be about twice as fast as bubble sort."
   ]
  },
  {
   "cell_type": "markdown",
   "metadata": {},
   "source": [
    "## 3. Insertion Sort\n",
    "### 3.1. Algorithm\n",
    "Remove a value to create a gap, shift values along to move the gap leftwards, then fill the gap.\n",
    "\n",
    "1. **Create a gap.** For the first pass-through, we temporarily remove the second cell (i.e. index 1) and store it as a temporary variable. This leaves a gap at that index.\n",
    "2. **Shifting phase.** Take each value to the left of the gap and compare it to the temporary variable. if `left_val > temp_val`, move left value to the right. This has the same effect as moving the gap leftwards. As soon as we encounter a value where `left_val < temp_val` the shifting phase is complete.\n",
    "3. **Fill the gap.** Insert the temporary value into the current gap.\n",
    "4. **Repeat pass-throughs.** Steps 1-3 constitute a single pass-through. Repeat this until the pass through begins at the final index of the array. At this point the array is sorted.\n",
    "\n",
    "\n",
    "### 3.2. Implementation"
   ]
  },
  {
   "cell_type": "code",
   "execution_count": 82,
   "metadata": {},
   "outputs": [],
   "source": [
    "def insertion_sort(array):\n",
    "    \"\"\"Insertion sort algorithm to sort an array into ascending order.\n",
    "    \n",
    "    Parameters\n",
    "    ----------\n",
    "    array: list\n",
    "        The array that we wish to sort.\n",
    "\n",
    "    Returns\n",
    "    -------\n",
    "    array: list\n",
    "        The input array sorted in-place.\n",
    "    \"\"\"\n",
    "    array_len = len(array)\n",
    "\n",
    "    for pass_thru_number in range(1, array_len):\n",
    "        # 1. Create a gap\n",
    "        temp_val = array[pass_thru_number]\n",
    "        gap_idx = pass_thru_number\n",
    "\n",
    "        # 2. Shifting phase\n",
    "        # Move leftwards from the gap and keep shifting elements right if they are greater than temp_val\n",
    "        while (gap_idx > 0) and (array[gap_idx - 1] > temp_val):\n",
    "            array[gap_idx] = array[gap_idx - 1]\n",
    "            gap_idx -= 1\n",
    "\n",
    "        # 3. Fill the gap\n",
    "        array[gap_idx] = temp_val\n",
    "\n",
    "    return array"
   ]
  },
  {
   "cell_type": "code",
   "execution_count": 83,
   "metadata": {},
   "outputs": [
    {
     "data": {
      "text/plain": [
       "[0, 1, 3, 5, 7, 8, 8, 9, 12, 23, 69, 420]"
      ]
     },
     "execution_count": 83,
     "metadata": {},
     "output_type": "execute_result"
    }
   ],
   "source": [
    "input_array = [8, 7, 5, 3, 1, 9, 0, 8, 23, 69, 420, 12]\n",
    "insertion_sort(input_array)"
   ]
  },
  {
   "cell_type": "markdown",
   "metadata": {},
   "source": [
    "### 3.3. Complexity\n",
    "\n",
    "The worst case is when the input array is sorted in descending order. \n",
    "\n",
    "There are 4 types of operations that occur:\n",
    "\n",
    "\n",
    "##### Comparisons\n",
    "If we compare values to the left of the gap on each step, there will be 1 comparison on the first pass-through, 2 on the second, 3 on the third, etc.\n",
    "\n",
    "So there are $1 + 2 + ... + N-1 = \\frac{N^2}{2}$ comparisons in the worst case.\n",
    "\n",
    "##### Shifts\n",
    "Each comparison could result in a shift, so there are the same number of shifts as comparisons in the worst case.\n",
    "\n",
    "##### Removals and Insertions\n",
    "We remove 1 temp value per pass-through, so there are $N-1$ removals.\n",
    "\n",
    "We insert that value at the end of each pass-through, so there are also $N-1$ insertions.\n",
    "\n",
    "\n",
    "##### Total\n",
    "\n",
    "Operation   | Number\n",
    "------------|-------\n",
    "Removals    | $N-1$\n",
    "Comparisons | $\\frac{N^2}{2}$\n",
    "Shifts      | $\\frac{N^2}{2}$\n",
    "Insertions  | $N-1$\n",
    "\n",
    "Overall there are $N^2 + 2N - 2$ operations, so the complexity is $O(N^2)$.\n",
    "\n",
    "\n",
    "### 3.3 The Average Case\n",
    "\n",
    "The complexity generally considers the worst case, but insertion sort varies greatly based on the input.\n",
    "\n",
    "We saw in the **worst case** the number of steps is $N^2 + 2N - 2$.\n",
    "\n",
    "In the **best case** the data is already sorted, so we do a remove and an insert on each pass-through, for a totla of $2N - 2$ steps.\n",
    "\n",
    "In the **average case**, let's assume about half of the data is already sorted. So we'll still need to do $N - 1$ removes and $N - 1$ inserts in total. We'll also need to compare about half the data, so $\\frac{N^2}{4}$ comparisons and the same number on swaps. This gives a total of $\\frac{N^2}{2} + 2N - 2$ steps.\n",
    "\n",
    "Depending on the state of the input data, the speed can vary considerably. Compare this to selection sort, which will always take $\\frac{N^2}{2}$ steps regardless of the input data.\n",
    "\n",
    "\n",
    "Algorithm | Best Case | Average Case | Worst Case\n",
    "----------|-----------|--------------|-----------\n",
    "Selection sort | $\\frac{N^2}{2}$ | $\\frac{N^2}{2}$ | $\\frac{N^2}{2}$\n",
    "Insertion sort | $N$ | $\\frac{N^2}{2}$ | $N^2$\n",
    "\n",
    "So the choice of which algorithm is \"best\" depends on the state of your input data. Both have the same $O(N^2)$ time complexity.\n",
    "\n"
   ]
  },
  {
   "cell_type": "markdown",
   "metadata": {},
   "source": [
    "## 4. Quicksort\n",
    "\n",
    "Quicksort is a sorting algorithm that relies on the concept of **partitioning**.\n",
    "\n",
    "\n",
    "### 4.1. Partitioning\n",
    "\n",
    "The idea behind partitioning is we take a random value from the array which we call the **pivot**. \n",
    "\n",
    "We then want to ensure any smaller numbers are left of the pivot and any larger numbers to its right.\n",
    "\n",
    "1. If we take the rightmost value as the pivot, we create a left pointer pointing at the leftmost value and a right pointer at the second from the right (i.e. not the pivot but the next rightmost).\n",
    "2. The **left pointer** moves rightwards until it reaches a value >= the pivot value.\n",
    "3. The **right pointer** moves leftwards until it reaches a value <= the pivot value.\n",
    "4. If at this pointer the left pointer has crossed past the right pointer, move straight on to the next step. Otherwise swap the values that the left and right pointers are pointing at.\n",
    "4. Swap the pivot value with the left pointer's value.\n"
   ]
  },
  {
   "cell_type": "code",
   "execution_count": 95,
   "metadata": {},
   "outputs": [],
   "source": [
    "def partition(array):\n",
    "    \"\"\"Partition an array around the rightmost value.\n",
    "    \n",
    "    Parameters\n",
    "    ----------\n",
    "    array: list\n",
    "        The array that we wish to partition.\n",
    "\n",
    "    Returns\n",
    "    -------\n",
    "    array: list\n",
    "        The input array partitioned in-place.\n",
    "    \"\"\"\n",
    "    # 1. Initialise the pivot and pointers\n",
    "    pivot_idx = len(array) - 1\n",
    "    left_pointer_idx = 0\n",
    "    right_pointer_idx = pivot_idx - 1\n",
    "\n",
    "    # Loop until the left and right pointers cross \n",
    "    while left_pointer_idx < right_pointer_idx:\n",
    "        # 2. Move the left pointer\n",
    "        while (left_pointer_idx < pivot_idx) and (array[left_pointer_idx] < array[pivot_idx]):\n",
    "            left_pointer_idx += 1\n",
    "\n",
    "        # 3. Move the right pointer\n",
    "        while (right_pointer_idx > 0) and (array[right_pointer_idx] > array[pivot_idx]):\n",
    "            right_pointer_idx -= 1\n",
    "\n",
    "        # 4. Swap values if the pointers haven't crossed yet, otherwise end the loop\n",
    "        if left_pointer_idx < right_pointer_idx:\n",
    "            array[left_pointer_idx], array[right_pointer_idx] = array[right_pointer_idx], array[left_pointer_idx]\n",
    "\n",
    "    # 5. Swap the pivot and left_pointer values\n",
    "    array[left_pointer_idx], array[pivot_idx] = array[pivot_idx], array[left_pointer_idx]\n",
    "\n",
    "    return array"
   ]
  },
  {
   "cell_type": "code",
   "execution_count": 93,
   "metadata": {},
   "outputs": [
    {
     "data": {
      "text/plain": [
       "([8, 7, 5, 3, 1, 9, 0, 8, 12, 69, 420, 23], 8)"
      ]
     },
     "execution_count": 93,
     "metadata": {},
     "output_type": "execute_result"
    }
   ],
   "source": [
    "input_array = [8, 7, 5, 3, 1, 9, 0, 8, 23, 69, 420, 12]\n",
    "partition(input_array)"
   ]
  },
  {
   "cell_type": "markdown",
   "metadata": {},
   "source": [
    "Partitioning isn't the same as sorting the array, but it's \"sorted-ish\".\n",
    "\n",
    "\n",
    "### 4.2. Quicksort Algorithm\n",
    "\n",
    "Quicksort is a combination of partitions and recursion.\n",
    "\n",
    "1. Partition the array. The **pivot** is now at the correct position in the sorted array.\n",
    "2. Consider the subarrays to the left and the right of the pivot as their own arrays. We'll partition these recursively.\n",
    "3. If a subarray has 0 or 1 elements, that is the base case and we do nothing; it is already sorted.\n",
    "\n",
    "We'll make a few tweaks to the partition function to take a start index and an end index, and to also return the pivot index. These extra parameters will allow us to call it recursively in quicksort.\n",
    "\n",
    "\n",
    "### 4.3. Implementation"
   ]
  },
  {
   "cell_type": "code",
   "execution_count": 96,
   "metadata": {},
   "outputs": [],
   "source": [
    "def partition(array, start_idx, end_idx):\n",
    "    \"\"\"Partition an array around the rightmost value.\n",
    "    \n",
    "    Parameters\n",
    "    ----------\n",
    "    array: list\n",
    "        The array that we wish to partition.\n",
    "    start_idx: int\n",
    "        The start index of the array to consider.\n",
    "    end_index: int\n",
    "        The end index of the array to consider.\n",
    "\n",
    "    Returns\n",
    "    -------\n",
    "    array: list\n",
    "        The input array partitioned in-place.\n",
    "    final_pivot_idx: int\n",
    "        The index position of the pivot point in the partitioned array.\n",
    "    \"\"\"\n",
    "    # 1. Initialise the pivot and pointers\n",
    "    pivot_idx = end_idx\n",
    "    left_pointer_idx = start_idx\n",
    "    right_pointer_idx = pivot_idx - 1\n",
    "\n",
    "    # Loop until the left and right pointers cross \n",
    "    while left_pointer_idx < right_pointer_idx:\n",
    "        # 2. Move the left pointer\n",
    "        while (left_pointer_idx < pivot_idx) and (array[left_pointer_idx] < array[pivot_idx]):\n",
    "            left_pointer_idx += 1\n",
    "\n",
    "        # 3. Move the right pointer\n",
    "        while (right_pointer_idx > 0) and (array[right_pointer_idx] > array[pivot_idx]):\n",
    "            right_pointer_idx -= 1\n",
    "\n",
    "        # 4. Swap values if the pointers haven't crossed yet, otherwise end the loop\n",
    "        if left_pointer_idx < right_pointer_idx:\n",
    "            array[left_pointer_idx], array[right_pointer_idx] = array[right_pointer_idx], array[left_pointer_idx]\n",
    "\n",
    "    # 5. Swap the pivot and left_pointer values\n",
    "    array[left_pointer_idx], array[pivot_idx] = array[pivot_idx], array[left_pointer_idx]\n",
    "    final_pivot_idx = left_pointer_idx\n",
    "\n",
    "    return array, final_pivot_idx"
   ]
  },
  {
   "cell_type": "code",
   "execution_count": 100,
   "metadata": {},
   "outputs": [
    {
     "data": {
      "text/plain": [
       "([8, 7, 5, 3, 1, 9, 0, 8, 12, 69, 420, 23], 8)"
      ]
     },
     "execution_count": 100,
     "metadata": {},
     "output_type": "execute_result"
    }
   ],
   "source": [
    "input_array = [8, 7, 5, 3, 1, 9, 0, 8, 23, 69, 420, 12]\n",
    "partition(input_array, 0, 11)"
   ]
  },
  {
   "cell_type": "code",
   "execution_count": 113,
   "metadata": {},
   "outputs": [],
   "source": [
    "def quicksort(array, start_idx=0, end_idx=None):\n",
    "    \"\"\"Quicksort algorithm to sort an array into ascending order.\n",
    "    \n",
    "    Parameters\n",
    "    ----------\n",
    "    array: list\n",
    "        The array that we wish to sort.\n",
    "    start_idx: int\n",
    "        The start index of the array to consider.\n",
    "    end_index: int\n",
    "        The end index of the array to consider.\n",
    "\n",
    "    Returns\n",
    "    -------\n",
    "    array: list\n",
    "        The input array sorted in-place.\n",
    "    \"\"\"\n",
    "    end_idx = end_idx or len(array) - 1\n",
    "\n",
    "    # 3. Base case - an array of 0 or 1 elements is already sorted\n",
    "    if len(array[start_idx: end_idx]) <= 1:\n",
    "        return array\n",
    "    \n",
    "    # 1. Partition the array\n",
    "    array, pivot_idx = partition(array, start_idx, end_idx)\n",
    "\n",
    "    # 2. Recursively partition the left and right subarrays\n",
    "    quicksort(array, start_idx=start_idx, end_idx=pivot_idx - 1)\n",
    "    quicksort(array, start_idx=pivot_idx + 1, end_idx=end_idx)\n",
    "\n",
    "    return array"
   ]
  },
  {
   "cell_type": "code",
   "execution_count": 114,
   "metadata": {},
   "outputs": [
    {
     "data": {
      "text/plain": [
       "[0, 1, 3, 5, 7, 8, 9, 8, 12, 23, 69, 420]"
      ]
     },
     "execution_count": 114,
     "metadata": {},
     "output_type": "execute_result"
    }
   ],
   "source": [
    "input_array = [8, 7, 5, 3, 1, 9, 0, 8, 23, 69, 420, 12]\n",
    "quicksort(input_array)"
   ]
  },
  {
   "cell_type": "markdown",
   "metadata": {},
   "source": [
    "### 4.4. Complexity\n",
    "\n",
    "#### 4.4.1 Complexity of Partition\n",
    "\n",
    "Partitioning involves two steps:\n",
    "\n",
    "Operation   | Number\n",
    "------------|-------\n",
    "Swaps       | $N$\n",
    "Comparisons | $\\frac{N^2}{2}$\n",
    "\n",
    "Each element is compared to the pivot point at least N times, because the left and right pointers move until they reach each other. So there are $N$ comparisons.\n",
    "\n",
    "Each swap handles two values, so in the worst case if we swapped every value there would be $\\frac{N}{2}$ swaps. On average, there'd be about half that, so $\\frac{N}{4}$.\n",
    "\n",
    "Either way, this means a single partition operation is $O(N)$.\n",
    "\n",
    "\n",
    "#### 4.4.2. Complexity of Quicksort\n",
    "\n",
    "Quicksort performs multiple partitions. How many? \n",
    "\n",
    "In the best case, each partition would place the pivot directly in the middle of the subarray, spltting them clean in half each time. So there would be $log_2 N$ splits. \n",
    "\n",
    "In the average case this is \"close enough\". Not every level will split equally so there'll be a few extra but it will still be broadly symmetric, therefore a logarithmic function of $N$.\n",
    "\n",
    "In the worst case, every partition ends up on the left side, so with each partition we are effectively placing each element one-by-one from the left. This means we will partition $N$ times, and each has $O(N)$ complexity, resulting in a total compleixty of $O(N^2)$.\n",
    "\n",
    "\n",
    "Algorithm | Best Case | Average Case | Worst Case\n",
    "----------|-----------|--------------|-----------\n",
    "Quicksort | $N log N$ | $N log N$ | $N^2$\n",
    "\n",
    "\n",
    "### 4.5. Quickselect\n",
    "\n",
    "Quickselect is an algorithm with a similar approach. It's a hybrid of Quicksort and a binary search.\n",
    "\n",
    "> Given an unsorted array, find the fifth-highest value in the array.\n",
    "\n",
    "One approach would be to sort the array then pick the fifth element from the right. But sorting is $O(N log N)$ on average for the better algorithms. We can do better without having to sort the whole array.\n",
    "\n",
    "Recall that after a partition, the pivot ends up in the correct place in the array. This is crucial.\n",
    "If we want to find the fifth highest value, we want to find the value that ends up in the fifth position from the right. So we can:\n",
    "\n",
    "1. Perform a partition and see where our pivot ends up.\n",
    "2. If our pivot is too far left, partition the right subarray. If the pivot is too dar right, partition the left subarray.\n",
    "3. Keep going until we find the pivot which ends up in our target spot."
   ]
  },
  {
   "cell_type": "code",
   "execution_count": 119,
   "metadata": {},
   "outputs": [],
   "source": [
    "def quickselect(array, target_position, start_idx=0, end_idx=None):\n",
    "    \"\"\"Quickselect algorithm to find the target position (k-th lowest) element in an unsorted array.\n",
    "    \n",
    "    Parameters\n",
    "    ----------\n",
    "    array: list\n",
    "        The array that we wish to sort.\n",
    "    target_position: int\n",
    "        The kth lowest value that we want to find.\n",
    "    start_idx: int\n",
    "        The start index of the array to consider.\n",
    "    end_index: int\n",
    "        The end index of the array to consider.\n",
    "\n",
    "    Returns\n",
    "    -------\n",
    "    array: list\n",
    "        The input array sorted in-place.\n",
    "    \"\"\"\n",
    "    end_idx = end_idx or len(array) - 1\n",
    "\n",
    "    # Base case: If the start index is greater than the end index, or if the target position is out of range\n",
    "    if (start_idx > end_idx) or (target_position < 0) or (target_position > end_idx):\n",
    "        return None\n",
    "\n",
    "    # 1. Partition the array\n",
    "    array, pivot_idx = partition(array, start_idx, end_idx)\n",
    "\n",
    "    # 2. Recursively process the subarrays\n",
    "    if pivot_idx < target_position:\n",
    "        # The pivot is too small, so check the subarray to the right\n",
    "        return quickselect(array, target_position, start_idx=pivot_idx + 1, end_idx=end_idx)\n",
    "    elif pivot_idx > target_position:\n",
    "        # The pivot is too big, so check the subarray to the left\n",
    "        return quickselect(array, target_position, start_idx=start_idx, end_idx=pivot_idx - 1)\n",
    "    else:\n",
    "        # The pivot is at the target position - we have found our target!\n",
    "        return array[pivot_idx]\n"
   ]
  },
  {
   "cell_type": "code",
   "execution_count": 120,
   "metadata": {},
   "outputs": [
    {
     "data": {
      "text/plain": [
       "8"
      ]
     },
     "execution_count": 120,
     "metadata": {},
     "output_type": "execute_result"
    }
   ],
   "source": [
    "input_array = [8, 7, 5, 3, 1, 9, 0, 8, 23, 69, 420, 12]\n",
    "quickselect(input_array, 5)"
   ]
  },
  {
   "cell_type": "markdown",
   "metadata": {},
   "source": [
    "### 4.6. Complexity of Quickselect\n",
    "\n",
    "In the average case, we are splitting the subarrays (roughly) in half each time.\n",
    "\n",
    "Each split is operating on a subarray of half the size, so in total there are\n",
    "$N + \\frac{N}{2} +  \\frac{N}{4} + \\frac{N}{8} + ... + 2 = 2N$ steps.\n",
    "\n",
    "Thus, overall the complexity is $O(N)$ in the average case."
   ]
  },
  {
   "cell_type": "markdown",
   "metadata": {},
   "source": [
    "## 5. Merge Sort\n",
    "\n",
    "Merge sort is like organizing a messy pile of papers. You divide the pile into smaller piles, sort each smaller pile, and then merge them back together in the correct order.\n",
    "\n",
    "\n",
    "### 5.1. Algorithm\n",
    "\n",
    "1. **Divide**. Recursively split the array into two halves until each subarray contains only one element (and is therefore sorted).\n",
    "2. **Sort**. Recursively mergesort each half.\n",
    "3. **Merge**. Recursively merge the sorted subarrays back together in the correct order.\n",
    "\n",
    "\n",
    "### 5.2. Implementation\n"
   ]
  },
  {
   "cell_type": "code",
   "execution_count": 121,
   "metadata": {},
   "outputs": [],
   "source": [
    "def merge_sort(array):\n",
    "    \"\"\"Mergesort sort algorithm to sort an array into ascending order.\n",
    "    \n",
    "    Parameters\n",
    "    ----------\n",
    "    array: list\n",
    "        The array that we wish to sort.\n",
    "\n",
    "    Returns\n",
    "    -------\n",
    "    array: list\n",
    "        The input array sorted in-place.\n",
    "    \"\"\"\n",
    "    # Base case - the array has 0 or 1 elements so is already sorted\n",
    "    if len(array) <= 1:\n",
    "        return array\n",
    "    \n",
    "    # 1. Split the array\n",
    "    idx_mid = len(array) // 2\n",
    "    left_half = array[:idx_mid]\n",
    "    right_half = array[idx_mid:]\n",
    "    \n",
    "    # 2. Sort each half recursively\n",
    "    left_half = merge_sort(left_half)\n",
    "    right_half = merge_sort(right_half)\n",
    "    \n",
    "    # 3. Merge the subarrays\n",
    "    return merge(left_half, right_half)\n",
    "\n",
    "def merge(left_array, right_array):\n",
    "    \"\"\"Merge two subarrays together which are each sorted.\n",
    "    \n",
    "    Parameters\n",
    "    ----------\n",
    "    left_array: list\n",
    "        The first subarray to merge.\n",
    "    right_array: list\n",
    "        The second subarray to merge.\n",
    "\n",
    "    Returns\n",
    "    -------\n",
    "    result: list\n",
    "        The merged, sorted array.\n",
    "    \"\"\"\n",
    "    # Initialise pointers at the start of each subarray\n",
    "    result = []\n",
    "    left_idx = 0\n",
    "    right_idx = 0\n",
    "    \n",
    "    # Loop until we reach the end of one of the subarrays\n",
    "    while left_idx < len(left_array) and right_idx < len(right_array):\n",
    "        # Compare the values of the left and right array, then insert the smaller of the two into the result\n",
    "        if left_array[left_idx] < right_array[right_idx]:\n",
    "            # The left value is smaller so insert it into the result and increment the pointer\n",
    "            result.append(left_array[left_idx])\n",
    "            left_idx += 1\n",
    "        else:\n",
    "            # The right value is smaller so insert it into the result and increment the pointer\n",
    "            result.append(right_array[right_idx])\n",
    "            right_idx += 1\n",
    "    \n",
    "    # The array that reaches the end first will be empty, but there will still be elements in the other.\n",
    "    # So insert any remaining elements at the end of the result\n",
    "    result.extend(left_array[left_idx:])\n",
    "    result.extend(right_array[right_idx:])\n",
    "    \n",
    "    return result\n"
   ]
  },
  {
   "cell_type": "code",
   "execution_count": 122,
   "metadata": {},
   "outputs": [
    {
     "data": {
      "text/plain": [
       "[0, 1, 3, 5, 7, 8, 8, 9, 12, 23, 69, 420]"
      ]
     },
     "execution_count": 122,
     "metadata": {},
     "output_type": "execute_result"
    }
   ],
   "source": [
    "input_array = [8, 7, 5, 3, 1, 9, 0, 8, 23, 69, 420, 12]\n",
    "merge_sort(input_array)"
   ]
  },
  {
   "cell_type": "markdown",
   "metadata": {},
   "source": [
    "### 5.3. Complexity\n",
    "\n",
    "The time complexity of merge sort is the same for the best case, average case, and worst case.\n",
    "\n",
    "In every case, each divide step splits the array in half, meaning there are $log_2(N)$ splits.\n",
    "\n",
    "For the merge step, the elements subarrays are looped through one-by-one, so all $N$ elements are touched.\n",
    "\n",
    "Therefore, the overall complexity is $O(NlogN)$.\n",
    "\n",
    "\n",
    "The space complexity is O(n).\n",
    "\n",
    "This is because merge sort requires additional space to store temporary arrays during the merging process. In the worst case, when merging two halves of the array, an additional array of size equal to the original array is needed to store the merged result temporarily.\n"
   ]
  },
  {
   "cell_type": "markdown",
   "metadata": {},
   "source": [
    "## 6. Heap Sort\n",
    "\n",
    "### 6.1. Algorithm\n",
    "\n",
    "A max-heap is \"weakly sorted\"; the maximum value is the root of the heap, and nodes are greater than all of their descendants.\n",
    "\n",
    "We can use this property to sort data elements by creating a heap from the data, then popping the maximum value one-by-one to populate an array in order.\n",
    "\n",
    "1. **Build a heap**: Create a max-heap, which ensures the maximum value is at the root of the heap.\n",
    "2. **Pop the root**: Remove the root and place it at the end of the result array.\n",
    "3. **Heapify**: Rearrange the remaining blocks to form a new heap.\n",
    "4. **Repeat**: Iterate through the entire heap until all elements are sorted.\n",
    "\n",
    "\n",
    "### 6.2. Implementation"
   ]
  },
  {
   "cell_type": "code",
   "execution_count": 11,
   "metadata": {},
   "outputs": [],
   "source": [
    "def heapify(array, heap_size, current_idx):\n",
    "    \"\"\"Heapify function to maintain the max-heap property.\n",
    "    \n",
    "    Parameters\n",
    "    ----------\n",
    "    array: list\n",
    "        List of elements\n",
    "    heap_size: int\n",
    "        Size of heap\n",
    "    current_idx: int\n",
    "        Index of current node\n",
    "\n",
    "    Returns\n",
    "    -------\n",
    "    None\n",
    "        The input heap `array` is heapified in-place.\n",
    "    \"\"\"\n",
    "    # Track the largest node, initially assumed to be the root\n",
    "    largest = current_idx  \n",
    "    left_child = 2 * current_idx + 1\n",
    "    right_child = 2 * current_idx + 2\n",
    "\n",
    "    # Check if the node's children, if it has any, are larger than the current node\n",
    "    if left_child < heap_size and array[left_child] > array[largest]:\n",
    "        largest = left_child\n",
    "    if right_child < heap_size and array[right_child] > array[largest]:\n",
    "        largest = right_child\n",
    "\n",
    "\n",
    "    if largest != current_idx:\n",
    "        # If largest is not root, swap it with root to maintain the heap condition\n",
    "        array[current_idx], array[largest] = array[largest], array[current_idx]\n",
    "        # Recursively heapify the affected sub-tree\n",
    "        heapify(array, heap_size, largest)\n",
    "\n",
    "\n",
    "def heap_sort(array):\n",
    "    \"\"\"Heap sort algorithm to sort an array into ascending order.\n",
    "    \n",
    "    Parameters\n",
    "    ----------\n",
    "    array: list\n",
    "        The array that we wish to sort.\n",
    "\n",
    "    Returns\n",
    "    -------\n",
    "    array: list\n",
    "        The sorted array sorted in-place.\n",
    "    \"\"\"\n",
    "    # 1. Build a max heap.\n",
    "    # Start from the last non-leaf node, and heapify each node\n",
    "    array_len = len(array)\n",
    "    idx_last_non_leaf = array_len // 2 - 1\n",
    "    idx_last_node = array_len - 1\n",
    "\n",
    "    for i in range(idx_last_non_leaf, -1, -1):\n",
    "        heapify(array, array_len, i)\n",
    "\n",
    "    # 2. Extract elements one-by-one starting from the end\n",
    "    for i in range(idx_last_node, 0, -1):\n",
    "        array[i], array[0] = array[0], array[i]\n",
    "        # 3. Maintain the heap condition for the unsorted portion of the array\n",
    "        heapify(array, i, 0)\n",
    "\n",
    "    return array"
   ]
  },
  {
   "cell_type": "code",
   "execution_count": 12,
   "metadata": {},
   "outputs": [
    {
     "data": {
      "text/plain": [
       "[0, 1, 3, 5, 7, 8, 8, 9, 12, 23, 69, 420]"
      ]
     },
     "execution_count": 12,
     "metadata": {},
     "output_type": "execute_result"
    }
   ],
   "source": [
    "input_array = [8, 7, 5, 3, 1, 9, 0, 8, 23, 69, 420, 12]\n",
    "heap_sort(input_array)"
   ]
  },
  {
   "cell_type": "markdown",
   "metadata": {},
   "source": [
    "### 6.3. Complexity\n",
    "\n",
    "The pre-processing step is to build the heap. This operation takes O(n) time.\n",
    "\n",
    "Once the heap is created, we perform the following operations:\n",
    "\n",
    "1. **Pop the max value**: This is accessible as it is the root, so $O(1)$ time.\n",
    "2. **Insert at the end of the result array**: This is also $O(1)$ time.\n",
    "3. **Heapifying**: This takes $O(log N)$ time.\n",
    "\n",
    "These are performed for each of the $N$ data elements, so the overall time complexity of heap sort is $O(N log N)$.\n",
    "\n",
    "This is the same regardless of the arrangement of the input, so the time complexity of heap sort is the same in the best case, average case, and worst case."
   ]
  },
  {
   "cell_type": "markdown",
   "metadata": {},
   "source": [
    "## 7. Counting Sort\n",
    "\n",
    "We count how many of each element is in the array, i.e. how many 0s, how many 1s, how many 2s.\n",
    "\n",
    "From this we can then determine what the *starting position* of each element in the output will be. E.g. if there are three 0s then these will take the first three slots in the sorted output, so 1s will start at the fourth position.\n",
    "\n",
    "Counting sort works best when the number of unique items is small, i.e. there are lots of duplicates in the list.\n",
    "\n",
    "It is a **stable** sorting algorithm, meaning items with identical values in the input will retain their original ordering in the output.\n",
    "\n",
    "\n",
    "### 7.1 Algorithm\n",
    "<!-- https://www.youtube.com/watch?v=OKd534EWcdk -->\n",
    "Say we want to sort the following array:\n",
    "\n",
    "```\n",
    "[0, 1, 2, 0, 0, 1, 2, 1, 0, 0, 2, 1, 2]\n",
    "```\n",
    "\n",
    "1. **Counting**: Count the *number of occurrences of each unique element* in the input list. How many 0s? How many 1s? How many 2s? Etc.\n",
    "2. **Cumulative count**: Then calculate the *cumulative count of the elements*. This step determines the *starting position of each element* in the sorted output.\n",
    "3. **Placement**: Finally, you *place each element* in its correct position in the sorted output based on its cumulative count.\n",
    "\n",
    "\n",
    "### 7.2. Implementation\n"
   ]
  },
  {
   "cell_type": "code",
   "execution_count": 21,
   "metadata": {},
   "outputs": [],
   "source": [
    "def counting_sort(array):\n",
    "    \"\"\"Counting sort algorithm to sort an array into ascending order.\n",
    "    \n",
    "    Parameters\n",
    "    ----------\n",
    "    array: list\n",
    "        The array that we wish to sort.\n",
    "\n",
    "    Returns\n",
    "    -------\n",
    "    sorted_array: list\n",
    "        The sorted array.\n",
    "    \"\"\"\n",
    "    # 1. Count the elements in the input. \n",
    "    max_val = max(array)\n",
    "    count_store = [0] * (max_val + 1)\n",
    "\n",
    "    for num in array:\n",
    "        count_store[num] += 1\n",
    "    \n",
    "    # 2. Cumulative count\n",
    "    for i in range(1, len(count_store)):\n",
    "        count_store[i] += count_store[i - 1]\n",
    "        \n",
    "    # 3. Place each element in its correct position in the sorted array\n",
    "    sorted_array = [0] * len(array)\n",
    "\n",
    "    # for num in reversed(array):\n",
    "    #     sorted_array[count_store[num] - 1] = num\n",
    "    #     count_store[num] -= 1\n",
    "\n",
    "    for num in array:\n",
    "        sorted_array[count_store[num] - 1] = num\n",
    "        count_store[num] -= 1\n",
    "    \n",
    "    return sorted_array"
   ]
  },
  {
   "cell_type": "code",
   "execution_count": 22,
   "metadata": {},
   "outputs": [
    {
     "data": {
      "text/plain": [
       "[0, 1, 3, 5, 7, 8, 8, 9, 12, 23, 69, 420]"
      ]
     },
     "execution_count": 22,
     "metadata": {},
     "output_type": "execute_result"
    }
   ],
   "source": [
    "input_array = [8, 7, 5, 3, 1, 9, 0, 8, 23, 69, 420, 12]\n",
    "counting_sort(input_array)"
   ]
  },
  {
   "cell_type": "markdown",
   "metadata": {},
   "source": [
    "### 7.3. Complexity\n",
    "\n",
    "The complexity of counting sort depends on the number of elements, $N$, and the number of *unique* elements, $K$.\n",
    "\n",
    "For each each of the steps:\n",
    "\n",
    "1. **Counting**: We loop through all $N$ elements. We also create a `count_store` array which takes $K$ elements of auxiliary space.\n",
    "2. **Cumulative count**: We loop through the $K$ elements in the `count_store` array.\n",
    "3. **Placement**: We initialise an output_array of size $N$, which therefore takes $N$ elements of auxiliary space. We then loop through the $N$ elements in the original array, using `count_store` to determine the correct placement.\n",
    "\n",
    "So there are $N + K + N$ steps and $N + K$ elements of auxiliary data.\n",
    "\n",
    "Time complexity: $O(N + K)$\n",
    "\n",
    "Auxiliary space: $O(N + K)$"
   ]
  },
  {
   "cell_type": "markdown",
   "metadata": {},
   "source": [
    "## 8. Radix Sort\n",
    "\n",
    "Radix sort is a sorting algorithm that sorts numbers by processing individual digits. \n",
    "\n",
    "It sorts numbers by first grouping the individual digits of the same place value together and sorting them. It starts sorting from the least significant digit (rightmost digit) to the most significant digit (leftmost digit).\n",
    "\n",
    "\n",
    "### 8.1. Algorithm\n",
    "\n",
    "1. Start from the rightmost digit: Look at the least significant digit of each number. Group the numbers based on this digit.\n",
    "2. Sort each group: After grouping, the numbers are rearranged based on their digit value. So, all the numbers with the same rightmost digit are now together, and they are sorted within this group.\n",
    "3. Move to the next digit: Now, look at the second rightmost digit and repeat the process. Group the numbers based on this digit and sort each group.\n",
    "4. Continue until all digits are considered: Keep repeating this process until you've looked at all digits, moving towards the leftmost digit.\n",
    "\n",
    "By the end of this process, the numbers will be sorted because each time you look at a digit, the numbers are sorted according to that digit.\n",
    "\n",
    "### 8.2. Implementation"
   ]
  },
  {
   "cell_type": "code",
   "execution_count": 23,
   "metadata": {},
   "outputs": [],
   "source": [
    "def counting_sort(arr, exp):\n",
    "    n = len(arr)\n",
    "    output = [0] * n\n",
    "    count = [0] * 10\n",
    "\n",
    "    # Count occurrences of digits\n",
    "    for i in range(n):\n",
    "        index = arr[i] // exp\n",
    "        count[index % 10] += 1\n",
    "\n",
    "    # Cumulative count\n",
    "    for i in range(1, 10):\n",
    "        count[i] += count[i - 1]\n",
    "\n",
    "    # Build the output array\n",
    "    i = n - 1\n",
    "    while i >= 0:\n",
    "        index = arr[i] // exp\n",
    "        output[count[index % 10] - 1] = arr[i]\n",
    "        count[index % 10] -= 1\n",
    "        i -= 1\n",
    "\n",
    "    # Copy the output array to arr, to be ready for the next iteration\n",
    "    for i in range(n):\n",
    "        arr[i] = output[i]\n",
    "\n",
    "def radix_sort(arr):\n",
    "    # Find the maximum number to determine the number of digits\n",
    "    max_num = max(arr)\n",
    "\n",
    "    exp = 1\n",
    "    while max_num // exp > 0:\n",
    "        counting_sort(arr, exp)\n",
    "        exp *= 10\n",
    "\n",
    "    return arr"
   ]
  },
  {
   "cell_type": "code",
   "execution_count": 24,
   "metadata": {},
   "outputs": [
    {
     "data": {
      "text/plain": [
       "[0, 1, 3, 5, 7, 8, 8, 9, 12, 23, 69, 420]"
      ]
     },
     "execution_count": 24,
     "metadata": {},
     "output_type": "execute_result"
    }
   ],
   "source": [
    "input_array = [8, 7, 5, 3, 1, 9, 0, 8, 23, 69, 420, 12]\n",
    "radix_sort(input_array)"
   ]
  },
  {
   "cell_type": "markdown",
   "metadata": {},
   "source": [
    "### 8.3. Complexity\n",
    "\n",
    "\n",
    "The time complexity of radix sort depends on the number of digits or the range of the input numbers. Let's denote:\n",
    "\n",
    "- n as the number of elements in the array to be sorted.\n",
    "- d as the maximum number of digits in the input numbers.\n",
    "- b as the base of the number system being used (usually 10 for decimal numbers).\n",
    "\n",
    "Best Case: The best-case scenario occurs when all the numbers have the same number of digits. In this case, the algorithm still has to iterate through each digit of each number. So, the time complexity in the best case is \n",
    "O(d⋅n)\n",
    "\n",
    "Average Case: The average case time complexity is also \n",
    "O(d⋅n). This is because, on average, each number requires \n",
    "�\n",
    "d passes through the counting and distribution steps of the radix sort.\n",
    "Worst Case: The worst-case scenario happens when the numbers have significantly different numbers of digits, resulting in more passes through the counting and distribution steps. In the worst case, the time complexity is O(d⋅n).\n",
    "\n",
    "In practice, however, the value of d is often considered to be a constant because it is bounded by the word size of the machine (e.g., 32 or 64 bits for integers). Therefore, the time complexity is often simplified to O(n), making radix sort very efficient, especially when the range of input numbers is relatively small.\n",
    "\n",
    "In radix sort, the time complexity is the same in the best case, average case, and worst case. This is because the algorithm always needs to iterate through each digit of each number, regardless of the distribution of digits among the input numbers."
   ]
  },
  {
   "cell_type": "markdown",
   "metadata": {},
   "source": [
    "## References\n",
    "\n",
    "- Counting sort: https://www.youtube.com/watch?v=OKd534EWcdk\n",
    "- Radix sort: https://www.youtube.com/watch?v=XiuSW_mEn7g"
   ]
  }
 ],
 "metadata": {
  "kernelspec": {
   "display_name": "ml-practice",
   "language": "python",
   "name": "python3"
  },
  "language_info": {
   "codemirror_mode": {
    "name": "ipython",
    "version": 3
   },
   "file_extension": ".py",
   "mimetype": "text/x-python",
   "name": "python",
   "nbconvert_exporter": "python",
   "pygments_lexer": "ipython3",
   "version": "3.11.3"
  }
 },
 "nbformat": 4,
 "nbformat_minor": 2
}
