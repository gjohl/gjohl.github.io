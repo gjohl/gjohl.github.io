{
 "cells": [
  {
   "cell_type": "raw",
   "metadata": {
    "vscode": {
     "languageId": "raw"
    }
   },
   "source": [
    "---\n",
    "title: \"Sorting Algorithms\"\n",
    "description: \"Algorithms? Sorted, mate.\"\n",
    "date: \"2024-04-17\"\n",
    "categories: [Engineering, ComputerScience, InterviewPrep]\n",
    "# format:\n",
    "#   html:\n",
    "#     code-fold: true\n",
    "---"
   ]
  },
  {
   "cell_type": "markdown",
   "metadata": {},
   "source": [
    "# Sorting\n",
    "\n",
    "Sorting algorithms come up so frequently that they deserve their own section.\n",
    "\n",
    "In general, we want to solve the problem:\n",
    "\n",
    "> Given an array of unsorted values, how can we sort them in ascending order?\n",
    "\n",
    "\n",
    "## 1. Bubble Sort\n",
    "\n",
    "### 1.1. Algorithm\n",
    "We \"bubble up\" the next highest unsorted number on each pass-through.\n",
    "\n",
    "1. Start with 2 pointers pointing at the first two values in the array. \n",
    "2. Compare the left and right values. If `left_value > right_value`, swap them. Otherwise, do nothing.\n",
    "3. Move both pointers one cell rightwards.\n",
    "4. Repeat Steps 2-3 until we reach values that have already been sorted. This completes the first \"pass-through\" and means we have \"bubbled up\" the biggest number to the end of the array.\n",
    "5. Start over. repeat Steps 1-4 to bubble up the second biggest number into the second to last position. Repeat this until we perform a pass through with no swaps.\n",
    "\n"
   ]
  },
  {
   "cell_type": "code",
   "execution_count": 76,
   "metadata": {},
   "outputs": [],
   "source": [
    "def bubble_sort(array):\n",
    "    \"\"\"Bubble sort algorithm to sort an array into ascending order.\n",
    "\n",
    "    Note we ignore edge cases for the sake of clarity.\n",
    "    These are left as an exercise for the reader:\n",
    "    - array is empty\n",
    "    - array has only 1 element\n",
    "    \n",
    "    Parameters\n",
    "    ----------\n",
    "    array: list\n",
    "        The array that we wish to sort.\n",
    "\n",
    "    Returns\n",
    "    -------\n",
    "    array: list\n",
    "        The input array sorted in-place.\n",
    "    \"\"\"\n",
    "    # Initially the entire array is unsorted\n",
    "    last_unsorted_index = len(array) - 1\n",
    "    is_sorted = False\n",
    "\n",
    "    while not is_sorted:\n",
    "        # Set this to True before we pass through the elements, \n",
    "        # then if we need to perform a swap the array is not sorted so we set it to False\n",
    "        is_sorted = True\n",
    "\n",
    "        # Perform a pass-through\n",
    "        for left_pointer in range(last_unsorted_index):\n",
    "            right_pointer = left_pointer + 1\n",
    "\n",
    "            if array[left_pointer] > array[right_pointer]:\n",
    "                # Swap the values\n",
    "                array[left_pointer], array[right_pointer] = array[right_pointer], array[left_pointer]\n",
    "                is_sorted = False\n",
    "\n",
    "        # The pass-through is finished so the next highest value has been \"bubbled up\".        \n",
    "        last_unsorted_index -= 1\n",
    "\n",
    "    return array"
   ]
  },
  {
   "cell_type": "code",
   "execution_count": 77,
   "metadata": {},
   "outputs": [
    {
     "data": {
      "text/plain": [
       "[0, 1, 3, 5, 7, 8, 8, 9, 12, 23, 69, 420]"
      ]
     },
     "execution_count": 77,
     "metadata": {},
     "output_type": "execute_result"
    }
   ],
   "source": [
    "input_array = [8, 7, 5, 3, 1, 9, 0, 8, 23, 69, 420, 12]\n",
    "bubble_sort(input_array)"
   ]
  },
  {
   "cell_type": "markdown",
   "metadata": {},
   "source": [
    "### 1.2. Complexity\n",
    "\n",
    "Each pass through loops through one fewer element:\n",
    "\n",
    "Pass-through number | Number of operations\n",
    "---------|--------------\n",
    "1  | N-1\n",
    "2  | N-2\n",
    "3  | N-3\n",
    "4  | N-4\n",
    "5  | N-5\n",
    "...| ...\n",
    "k  | N-k\n",
    "\n",
    "So in total, there are $(N-1) + (N-2) + (N-3) + ... + 1$ comparisons. This is the sum of an arithmetic progression, which we can calculate as $\\frac{N^2}{2}$.\n",
    "\n",
    "Also worth noting that in the worst case - an input array in descending order - each comparison will also result in a swap. This does not affect the Big-O complexity but would slow down the run time in practice.\n",
    "There are $\\frac{N^2}{2}$ comparisons and up to $\\frac{N^2}{2}$ swaps, resulting in $O(N^2)$ total operations.\n",
    "\n",
    "\n",
    "The complexity is therefore **$O(N^2)$**.\n",
    "\n",
    "In general, any nested loop should be a hint at quadratic time complexity."
   ]
  },
  {
   "cell_type": "markdown",
   "metadata": {},
   "source": [
    "## 2. Selection Sort\n",
    "\n",
    "### 2.1. Algorithm\n",
    "\n",
    "Find the smallest value from the unsorted part of the array and put it at the beginning.\n",
    "\n",
    "1. Check each cell of the array from left to right to find the lowest value. Store the index of the running minimum value.\n",
    "2. At the end of pass-through $j$ (starting at 0), swap the minimum value with the one at index $j$.\n",
    "3. Repeat steps 1-2 until we reach a pass-through that would start at the end of the array, i.e. $j = N-1$"
   ]
  },
  {
   "cell_type": "code",
   "execution_count": 72,
   "metadata": {},
   "outputs": [],
   "source": [
    "def selection_sort(array):\n",
    "    \"\"\"Selection sort algorithm to sort an array into ascending order.\n",
    "    \n",
    "    Parameters\n",
    "    ----------\n",
    "    array: list\n",
    "        The array that we wish to sort.\n",
    "\n",
    "    Returns\n",
    "    -------\n",
    "    array: list\n",
    "        The input array sorted in-place.\n",
    "    \"\"\"\n",
    "    array_length = len(array)\n",
    "\n",
    "    # Loop through all array elements\n",
    "    for pass_through_number in range(array_length):\n",
    "\n",
    "        # Find the minimum element in the remaining unsorted array\n",
    "        min_index = pass_through_number\n",
    "        for idx_unsorted_section in range(pass_through_number + 1, array_length):\n",
    "            if array[idx_unsorted_section] < array[min_index]:\n",
    "                min_index = idx_unsorted_section\n",
    "\n",
    "        # Swap the found minimum element with the first element\n",
    "        array[pass_through_number], array[min_index] = array[min_index], array[pass_through_number]\n",
    "    \n",
    "    return array"
   ]
  },
  {
   "cell_type": "code",
   "execution_count": 74,
   "metadata": {},
   "outputs": [
    {
     "data": {
      "text/plain": [
       "[0, 1, 3, 5, 7, 8, 8, 9, 12, 23, 69, 420]"
      ]
     },
     "execution_count": 74,
     "metadata": {},
     "output_type": "execute_result"
    }
   ],
   "source": [
    "input_array = [8, 7, 5, 3, 1, 9, 0, 8, 23, 69, 420, 12]\n",
    "selection_sort(input_array)"
   ]
  },
  {
   "cell_type": "markdown",
   "metadata": {},
   "source": [
    "### 2.2. Complexity\n",
    "\n",
    "As with bubble sort, on each pass-through we loop through one fewer element, so there are $\\frac{N^2}{2}$ comparisons. But each pass-through only performs 1 swap, so the total number of operations is $\\frac{N^2}{2} + N$.\n",
    "\n",
    "This is still therefore **$O(N^2)$** complexity, but it should be about twice as fast as bubble sort."
   ]
  },
  {
   "cell_type": "markdown",
   "metadata": {},
   "source": [
    "## 3. Insertion Sort\n",
    "### 3.1. Algorithm\n",
    "Remove a value to create a gap, shift values along to move the gap leftwards, then fill the gap.\n",
    "\n",
    "1. **Create a gap.** For the first pass-through, we temporarily remove the second cell (i.e. index 1) and store it as a temporary variable. This leaves a gap at that index.\n",
    "2. **Shifting phase.** Take each value to the left of the gap and compare it to the temporary variable. if `left_val > temp_val`, move left value to the right. This has the same effect as moving the gap leftwards. As soon as we encounter a value where `left_val < temp_val` the shifting phase is complete.\n",
    "3. **Fill the gap.** Insert the temporary value into the current gap.\n",
    "4. **Repeat pass-throughs.** Steps 1-3 constitute a single pass-through. Repeat this until the pass through begins at the final index of the array. At this point the array is sorted."
   ]
  },
  {
   "cell_type": "code",
   "execution_count": 82,
   "metadata": {},
   "outputs": [],
   "source": [
    "def insertion_sort(array):\n",
    "    \"\"\"Insertion sort algorithm to sort an array into ascending order.\n",
    "    \n",
    "    Parameters\n",
    "    ----------\n",
    "    array: list\n",
    "        The array that we wish to sort.\n",
    "\n",
    "    Returns\n",
    "    -------\n",
    "    array: list\n",
    "        The input array sorted in-place.\n",
    "    \"\"\"\n",
    "    array_len = len(array)\n",
    "\n",
    "    for pass_thru_number in range(1, array_len):\n",
    "        # 1. Create a gap\n",
    "        temp_val = array[pass_thru_number]\n",
    "        gap_idx = pass_thru_number\n",
    "\n",
    "        # 2. Shifting phase\n",
    "        # Move leftwards from the gap and keep shifting elements right if they are greater than temp_val\n",
    "        while (gap_idx > 0) and (array[gap_idx - 1] > temp_val):\n",
    "            array[gap_idx] = array[gap_idx - 1]\n",
    "            gap_idx -= 1\n",
    "\n",
    "        # 3. Fill the gap\n",
    "        array[gap_idx] = temp_val\n",
    "\n",
    "    return array"
   ]
  },
  {
   "cell_type": "code",
   "execution_count": 83,
   "metadata": {},
   "outputs": [
    {
     "data": {
      "text/plain": [
       "[0, 1, 3, 5, 7, 8, 8, 9, 12, 23, 69, 420]"
      ]
     },
     "execution_count": 83,
     "metadata": {},
     "output_type": "execute_result"
    }
   ],
   "source": [
    "input_array = [8, 7, 5, 3, 1, 9, 0, 8, 23, 69, 420, 12]\n",
    "insertion_sort(input_array)"
   ]
  },
  {
   "cell_type": "markdown",
   "metadata": {},
   "source": [
    "### 3.2. Complexity\n",
    "\n",
    "The worst case is when the input array is sorted in descending order. \n",
    "\n",
    "There are 4 types of operations that occur:\n",
    "\n",
    "\n",
    "##### Comparisons\n",
    "If we compare values to the left of the gap on each step, there will be 1 comparison on the first pass-through, 2 on the second, 3 on the third, etc.\n",
    "\n",
    "So there are $1 + 2 + ... + N-1 = \\frac{N^2}{2}$ comparisons in the worst case.\n",
    "\n",
    "##### Shifts\n",
    "Each comparison could result in a shift, so there are the same number of shifts as comparisons in the worst case.\n",
    "\n",
    "##### Removals and Insertions\n",
    "We remove 1 temp value per pass-through, so there are $N-1$ removals.\n",
    "\n",
    "We insert that value at the end of each pass-through, so there are also $N-1$ insertions.\n",
    "\n",
    "\n",
    "##### Total\n",
    "\n",
    "Operation   | Number\n",
    "------------|-------\n",
    "Removals    | $N-1$\n",
    "Comparisons | $\\frac{N^2}{2}$\n",
    "Shifts      | $\\frac{N^2}{2}$\n",
    "Insertions  | $N-1$\n",
    "\n",
    "Overall there are $N^2 + 2N - 2$ operations, so the complexity is $O(N^2)$."
   ]
  },
  {
   "cell_type": "markdown",
   "metadata": {},
   "source": []
  }
 ],
 "metadata": {
  "kernelspec": {
   "display_name": "ml-practice",
   "language": "python",
   "name": "python3"
  },
  "language_info": {
   "codemirror_mode": {
    "name": "ipython",
    "version": 3
   },
   "file_extension": ".py",
   "mimetype": "text/x-python",
   "name": "python",
   "nbconvert_exporter": "python",
   "pygments_lexer": "ipython3",
   "version": "3.11.3"
  }
 },
 "nbformat": 4,
 "nbformat_minor": 2
}
