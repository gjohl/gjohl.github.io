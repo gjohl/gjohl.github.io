{
 "cells": [
  {
   "cell_type": "raw",
   "metadata": {
    "vscode": {
     "languageId": "raw"
    }
   },
   "source": [
    "---\n",
    "title: \"Sorting Algorithms\"\n",
    "description: \"Algorithms? Sorted, mate.\"\n",
    "date: \"2024-04-17\"\n",
    "categories: [Engineering, ComputerScience, InterviewPrep]\n",
    "# format:\n",
    "#   html:\n",
    "#     code-fold: true\n",
    "---"
   ]
  },
  {
   "cell_type": "markdown",
   "metadata": {},
   "source": [
    "# Sorting\n",
    "\n",
    "Sorting algorithms come up so frequently that they deserve their own section.\n",
    "\n",
    "In general, we want to solve the problem:\n",
    "\n",
    "> Given an array of unsorted values, how can we sort them in ascending order?\n",
    "\n",
    "\n",
    "## 1. Bubble Sort\n",
    "We \"bubble up\" the next highest unsorted number on each pass-through.\n",
    "\n",
    "1. Start with 2 pointers pointing at the first two values in the array. \n",
    "2. Compare the left and right values. If `left_value > right_value`, swap them. Otherwise, do nothing.\n",
    "3. Move both pointers one cell rightwards.\n",
    "4. Repeat Steps 2-3 until we reach values that have already been sorted. This completes the first \"pass-through\" and means we have \"bubbled up\" the biggest number to the end of the array.\n",
    "5. Start over. repeat Steps 1-4 to bubble up the second biggest number into the second to last position. Repeat this until we perform a pass through with no swaps.\n",
    "\n"
   ]
  },
  {
   "cell_type": "code",
   "execution_count": 76,
   "metadata": {},
   "outputs": [],
   "source": [
    "def bubble_sort(array):\n",
    "    \"\"\"Bubble sort algorithm to sort an array into ascending order.\n",
    "\n",
    "    Note we ignore edge cases for the sake of clarity.\n",
    "    These are left as an exercise for the reader:\n",
    "    - array is empty\n",
    "    - array has only 1 element\n",
    "    \n",
    "    Parameters\n",
    "    ----------\n",
    "    array: list\n",
    "        The array that we wish to sort\n",
    "\n",
    "    Returns\n",
    "    -------\n",
    "    array: list\n",
    "        The input array sorted in-place.\n",
    "    \"\"\"\n",
    "    # Initially the entire array is unsorted\n",
    "    last_unsorted_index = len(array) - 1\n",
    "    is_sorted = False\n",
    "\n",
    "    while not is_sorted:\n",
    "        # Set this to True before we pass through the elements, \n",
    "        # then if we need to perform a swap the array is not sorted so we set it to False\n",
    "        is_sorted = True\n",
    "\n",
    "        # Perform a pass-through\n",
    "        for left_pointer in range(last_unsorted_index):\n",
    "            right_pointer = left_pointer + 1\n",
    "\n",
    "            if array[left_pointer] > array[right_pointer]:\n",
    "                # Swap the values\n",
    "                array[left_pointer], array[right_pointer] = array[right_pointer], array[left_pointer]\n",
    "                is_sorted = False\n",
    "\n",
    "        # The pass-through is finished so the next highest value has been \"bubbled up\".        \n",
    "        last_unsorted_index -= 1\n",
    "\n",
    "    return array"
   ]
  },
  {
   "cell_type": "code",
   "execution_count": 77,
   "metadata": {},
   "outputs": [
    {
     "data": {
      "text/plain": [
       "[0, 1, 3, 5, 7, 8, 8, 9, 12, 23, 69, 420]"
      ]
     },
     "execution_count": 77,
     "metadata": {},
     "output_type": "execute_result"
    }
   ],
   "source": [
    "input_array = [8, 7, 5, 3, 1, 9, 0, 8, 23, 69, 420, 12]\n",
    "bubble_sort(input_array)"
   ]
  },
  {
   "cell_type": "markdown",
   "metadata": {},
   "source": [
    "Each pass through loops through one fewer element:\n",
    "\n",
    "Pass-through number | Number of operations\n",
    "---------|--------------\n",
    "1  | N-1\n",
    "2  | N-2\n",
    "3  | N-3\n",
    "4  | N-4\n",
    "5  | N-5\n",
    "...| ...\n",
    "k  | N-k\n",
    "\n",
    "So in total, there are $(N-1) + (N-2) + (N-3) + ... + 1$ comparisons. This is the sum of an arithmetic progression, which we can calculate as $\\frac{N^2}{2}$.\n",
    "\n",
    "Also worth noting that in the worst case - an input array in descending order - each comparison will also result in a swap. This does not affect the Big-O complexity but would slow down the run time in practice.\n",
    "There are $\\frac{N^2}{2}$ comparisons and up to $\\frac{N^2}{2}$ swaps, resulting in $O(N^2)$ total operations.\n",
    "\n",
    "\n",
    "The complexity is therefore **$O(N^2)$**.\n",
    "\n",
    "In general, any nested loop should be a hint at quadratic time complexity."
   ]
  },
  {
   "cell_type": "markdown",
   "metadata": {},
   "source": [
    "## 2. Selection Sort\n",
    "\n",
    "Find the smallest value from the unsorted part of the array and put it at the beginning.\n",
    "\n",
    "1. Check each cell of the array from left to right to find the lowest value. Store the index of the running minimum value.\n",
    "2. At the end of pass-through $j$ (starting at 0), swap the minimum value with the one at index $j$.\n",
    "3. Repeat steps 1-2 until we reach a pass-through that would start at the end of the array, i.e. $j = N-1$"
   ]
  },
  {
   "cell_type": "code",
   "execution_count": 72,
   "metadata": {},
   "outputs": [],
   "source": [
    "def selection_sort(array):\n",
    "    \"\"\"Selection sort algorithm to sort an array into ascending order.\"\"\"\n",
    "    array_length = len(array)\n",
    "\n",
    "    # Loop through all array elements\n",
    "    for pass_through_number in range(array_length):\n",
    "\n",
    "        # Find the minimum element in the remaining unsorted array\n",
    "        min_index = pass_through_number\n",
    "        for idx_unsorted_section in range(pass_through_number + 1, array_length):\n",
    "            if array[idx_unsorted_section] < array[min_index]:\n",
    "                min_index = idx_unsorted_section\n",
    "\n",
    "        # Swap the found minimum element with the first element\n",
    "        array[pass_through_number], array[min_index] = array[min_index], array[pass_through_number]\n",
    "    \n",
    "    return array"
   ]
  },
  {
   "cell_type": "code",
   "execution_count": 74,
   "metadata": {},
   "outputs": [
    {
     "data": {
      "text/plain": [
       "[0, 1, 3, 5, 7, 8, 8, 9, 12, 23, 69, 420]"
      ]
     },
     "execution_count": 74,
     "metadata": {},
     "output_type": "execute_result"
    }
   ],
   "source": [
    "input_array = [8, 7, 5, 3, 1, 9, 0, 8, 23, 69, 420, 12]\n",
    "selection_sort(input_array)"
   ]
  },
  {
   "cell_type": "markdown",
   "metadata": {},
   "source": [
    "As with bubble sort, on each pass-through we loop through one fewer element, so there are $\\frac{N^2}{2}$ comparisons. But each pass-through only performs 1 swap, so the total number of operations is $\\frac{N^2}{2} + N$.\n",
    "\n",
    "This is still therefore **$O(N^2)$** complexity, but it should be about twice as fast as bubble sort."
   ]
  },
  {
   "cell_type": "markdown",
   "metadata": {},
   "source": [
    "## 3. Insertion Sort"
   ]
  }
 ],
 "metadata": {
  "kernelspec": {
   "display_name": "ml-practice",
   "language": "python",
   "name": "python3"
  },
  "language_info": {
   "codemirror_mode": {
    "name": "ipython",
    "version": 3
   },
   "file_extension": ".py",
   "mimetype": "text/x-python",
   "name": "python",
   "nbconvert_exporter": "python",
   "pygments_lexer": "ipython3",
   "version": "3.11.3"
  }
 },
 "nbformat": 4,
 "nbformat_minor": 2
}
