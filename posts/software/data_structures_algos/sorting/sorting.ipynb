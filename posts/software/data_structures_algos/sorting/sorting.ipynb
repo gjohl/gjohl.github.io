{
 "cells": [
  {
   "cell_type": "raw",
   "metadata": {
    "vscode": {
     "languageId": "raw"
    }
   },
   "source": [
    "---\n",
    "title: \"Sorting Algorithms\"\n",
    "description: \"Algorithms? Sorted, mate.\"\n",
    "date: \"2024-04-17\"\n",
    "categories: [Engineering, ComputerScience, InterviewPrep]\n",
    "# format:\n",
    "#   html:\n",
    "#     code-fold: true\n",
    "---"
   ]
  },
  {
   "cell_type": "markdown",
   "metadata": {},
   "source": [
    "# Sorting\n",
    "\n",
    "Sorting algorithms come up so frequently that they deserve their own section.\n",
    "\n",
    "In general, we want to solve the problem:\n",
    "\n",
    "> Given an array of unsorted values, how can we sort them in ascending order?\n",
    "\n",
    "\n",
    "## 1. Bubble Sort\n",
    "\n",
    "1. Start with 2 pointers pointing at the first two values in the array. \n",
    "2. Compare the left and right values. If `left_value > right_value`, swap them. Otherwise, do nothing.\n",
    "3. Move both pointers one cell rightwards.\n",
    "4. Repeat Steps 2-3 until we reach values that have already been sorted. This completes the first \"pass-through\" and means we have \"bubbled up\" the biggest number to the end of the array.\n",
    "5. Start over. repeat Steps 1-4 to bubble up the second biggest number into the second to last position. Repeat this until we perform a pass through with no swaps.\n",
    "\n",
    "Each pass through loops through one fewer element:\n",
    "\n",
    "Pass-through number | Number of operations\n",
    "---------|--------------\n",
    "1  | N-1\n",
    "2  | N-2\n",
    "3  | N-3\n",
    "4  | N-4\n",
    "5  | N-5\n",
    "...| ...\n",
    "k  | N-k\n",
    "\n",
    "So in total, there are $(N-1) + (N-2) + (N-3) + ... + 1$ comparisons. This is the sum of an arithmetic progression, which we can calculate as $\\frac{N^2}{2}$.\n",
    "\n",
    "Also worth noting that in the worst case - an input array in descending order - each comparison will also result in a swap. This does not affect the Big-O complexity but would slow down the run time in practice.\n",
    "\n",
    "The complexity is therefore **$O(N^2)$**.\n",
    "\n",
    "In general, any nested loop should be a hint at quadratic time complexity."
   ]
  },
  {
   "cell_type": "code",
   "execution_count": 49,
   "metadata": {},
   "outputs": [],
   "source": [
    "input_array = [8, 7, 5, 3, 1, 9, 0, 8, 23, 69, 420, 12]"
   ]
  },
  {
   "cell_type": "code",
   "execution_count": 56,
   "metadata": {},
   "outputs": [
    {
     "data": {
      "text/plain": [
       "[0, 1, 3, 5, 7, 8, 8, 9, 12, 23, 69, 420]"
      ]
     },
     "execution_count": 56,
     "metadata": {},
     "output_type": "execute_result"
    }
   ],
   "source": [
    "bubble_sort(input_array)"
   ]
  },
  {
   "cell_type": "markdown",
   "metadata": {},
   "source": [
    "## 2. Selection Sort"
   ]
  }
 ],
 "metadata": {
  "kernelspec": {
   "display_name": "ml-practice",
   "language": "python",
   "name": "python3"
  },
  "language_info": {
   "codemirror_mode": {
    "name": "ipython",
    "version": 3
   },
   "file_extension": ".py",
   "mimetype": "text/x-python",
   "name": "python",
   "nbconvert_exporter": "python",
   "pygments_lexer": "ipython3",
   "version": "3.11.3"
  }
 },
 "nbformat": 4,
 "nbformat_minor": 2
}
